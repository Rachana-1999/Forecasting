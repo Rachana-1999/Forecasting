{
 "cells": [
  {
   "cell_type": "code",
   "execution_count": 72,
   "metadata": {
    "ExecuteTime": {
     "end_time": "2021-02-01T16:03:37.287971Z",
     "start_time": "2021-02-01T16:03:37.272371Z"
    }
   },
   "outputs": [],
   "source": [
    "import pandas as pd\n",
    "import numpy as np\n",
    "import matplotlib.pyplot as plt\n",
    "import seaborn as sns\n",
    "import statsmodels.api as sm\n",
    "from statsmodels.tsa.seasonal import seasonal_decompose\n",
    "from statsmodels.tsa.holtwinters import SimpleExpSmoothing # SES\n",
    "from statsmodels.tsa.holtwinters import Holt # Holts Exponential Smoothing\n",
    "from statsmodels.tsa.holtwinters import ExponentialSmoothing # \n",
    "import statsmodels.graphics.tsaplots as tsa_plots\n",
    "import statsmodels.tsa.statespace as tm_models\n",
    "from datetime import datetime,time"
   ]
  },
  {
   "cell_type": "code",
   "execution_count": 73,
   "metadata": {
    "ExecuteTime": {
     "end_time": "2021-02-01T16:03:38.202213Z",
     "start_time": "2021-02-01T16:03:38.132011Z"
    }
   },
   "outputs": [
    {
     "data": {
      "text/html": [
       "<div>\n",
       "<style scoped>\n",
       "    .dataframe tbody tr th:only-of-type {\n",
       "        vertical-align: middle;\n",
       "    }\n",
       "\n",
       "    .dataframe tbody tr th {\n",
       "        vertical-align: top;\n",
       "    }\n",
       "\n",
       "    .dataframe thead th {\n",
       "        text-align: right;\n",
       "    }\n",
       "</style>\n",
       "<table border=\"1\" class=\"dataframe\">\n",
       "  <thead>\n",
       "    <tr style=\"text-align: right;\">\n",
       "      <th></th>\n",
       "      <th>Month</th>\n",
       "      <th>Sales</th>\n",
       "    </tr>\n",
       "  </thead>\n",
       "  <tbody>\n",
       "    <tr>\n",
       "      <th>0</th>\n",
       "      <td>Jan-49</td>\n",
       "      <td>742</td>\n",
       "    </tr>\n",
       "    <tr>\n",
       "      <th>1</th>\n",
       "      <td>Feb-49</td>\n",
       "      <td>697</td>\n",
       "    </tr>\n",
       "    <tr>\n",
       "      <th>2</th>\n",
       "      <td>Mar-49</td>\n",
       "      <td>776</td>\n",
       "    </tr>\n",
       "    <tr>\n",
       "      <th>3</th>\n",
       "      <td>Apr-49</td>\n",
       "      <td>898</td>\n",
       "    </tr>\n",
       "    <tr>\n",
       "      <th>4</th>\n",
       "      <td>May-49</td>\n",
       "      <td>1030</td>\n",
       "    </tr>\n",
       "    <tr>\n",
       "      <th>5</th>\n",
       "      <td>Jun-49</td>\n",
       "      <td>1107</td>\n",
       "    </tr>\n",
       "    <tr>\n",
       "      <th>6</th>\n",
       "      <td>Jul-49</td>\n",
       "      <td>1165</td>\n",
       "    </tr>\n",
       "    <tr>\n",
       "      <th>7</th>\n",
       "      <td>Aug-49</td>\n",
       "      <td>1216</td>\n",
       "    </tr>\n",
       "    <tr>\n",
       "      <th>8</th>\n",
       "      <td>Sep-49</td>\n",
       "      <td>1208</td>\n",
       "    </tr>\n",
       "    <tr>\n",
       "      <th>9</th>\n",
       "      <td>Oct-49</td>\n",
       "      <td>1131</td>\n",
       "    </tr>\n",
       "    <tr>\n",
       "      <th>10</th>\n",
       "      <td>Nov-49</td>\n",
       "      <td>971</td>\n",
       "    </tr>\n",
       "    <tr>\n",
       "      <th>11</th>\n",
       "      <td>Dec-49</td>\n",
       "      <td>783</td>\n",
       "    </tr>\n",
       "    <tr>\n",
       "      <th>12</th>\n",
       "      <td>Jan-50</td>\n",
       "      <td>741</td>\n",
       "    </tr>\n",
       "    <tr>\n",
       "      <th>13</th>\n",
       "      <td>Feb-50</td>\n",
       "      <td>700</td>\n",
       "    </tr>\n",
       "    <tr>\n",
       "      <th>14</th>\n",
       "      <td>Mar-50</td>\n",
       "      <td>774</td>\n",
       "    </tr>\n",
       "    <tr>\n",
       "      <th>15</th>\n",
       "      <td>Apr-50</td>\n",
       "      <td>932</td>\n",
       "    </tr>\n",
       "    <tr>\n",
       "      <th>16</th>\n",
       "      <td>May-50</td>\n",
       "      <td>1099</td>\n",
       "    </tr>\n",
       "    <tr>\n",
       "      <th>17</th>\n",
       "      <td>Jun-50</td>\n",
       "      <td>1223</td>\n",
       "    </tr>\n",
       "    <tr>\n",
       "      <th>18</th>\n",
       "      <td>Jul-50</td>\n",
       "      <td>1290</td>\n",
       "    </tr>\n",
       "    <tr>\n",
       "      <th>19</th>\n",
       "      <td>Aug-50</td>\n",
       "      <td>1349</td>\n",
       "    </tr>\n",
       "    <tr>\n",
       "      <th>20</th>\n",
       "      <td>Sep-50</td>\n",
       "      <td>1341</td>\n",
       "    </tr>\n",
       "    <tr>\n",
       "      <th>21</th>\n",
       "      <td>Oct-50</td>\n",
       "      <td>1296</td>\n",
       "    </tr>\n",
       "    <tr>\n",
       "      <th>22</th>\n",
       "      <td>Nov-50</td>\n",
       "      <td>1066</td>\n",
       "    </tr>\n",
       "    <tr>\n",
       "      <th>23</th>\n",
       "      <td>Dec-50</td>\n",
       "      <td>901</td>\n",
       "    </tr>\n",
       "    <tr>\n",
       "      <th>24</th>\n",
       "      <td>Jan-51</td>\n",
       "      <td>896</td>\n",
       "    </tr>\n",
       "    <tr>\n",
       "      <th>25</th>\n",
       "      <td>Feb-51</td>\n",
       "      <td>793</td>\n",
       "    </tr>\n",
       "    <tr>\n",
       "      <th>26</th>\n",
       "      <td>Mar-51</td>\n",
       "      <td>885</td>\n",
       "    </tr>\n",
       "    <tr>\n",
       "      <th>27</th>\n",
       "      <td>Apr-51</td>\n",
       "      <td>1055</td>\n",
       "    </tr>\n",
       "    <tr>\n",
       "      <th>28</th>\n",
       "      <td>May-51</td>\n",
       "      <td>1204</td>\n",
       "    </tr>\n",
       "    <tr>\n",
       "      <th>29</th>\n",
       "      <td>Jun-51</td>\n",
       "      <td>1326</td>\n",
       "    </tr>\n",
       "    <tr>\n",
       "      <th>30</th>\n",
       "      <td>Jul-51</td>\n",
       "      <td>1303</td>\n",
       "    </tr>\n",
       "    <tr>\n",
       "      <th>31</th>\n",
       "      <td>Aug-51</td>\n",
       "      <td>1436</td>\n",
       "    </tr>\n",
       "    <tr>\n",
       "      <th>32</th>\n",
       "      <td>Sep-51</td>\n",
       "      <td>1473</td>\n",
       "    </tr>\n",
       "    <tr>\n",
       "      <th>33</th>\n",
       "      <td>Oct-51</td>\n",
       "      <td>1453</td>\n",
       "    </tr>\n",
       "    <tr>\n",
       "      <th>34</th>\n",
       "      <td>Nov-51</td>\n",
       "      <td>1170</td>\n",
       "    </tr>\n",
       "    <tr>\n",
       "      <th>35</th>\n",
       "      <td>Dec-51</td>\n",
       "      <td>1023</td>\n",
       "    </tr>\n",
       "    <tr>\n",
       "      <th>36</th>\n",
       "      <td>Jan-52</td>\n",
       "      <td>951</td>\n",
       "    </tr>\n",
       "    <tr>\n",
       "      <th>37</th>\n",
       "      <td>Feb-52</td>\n",
       "      <td>861</td>\n",
       "    </tr>\n",
       "    <tr>\n",
       "      <th>38</th>\n",
       "      <td>Mar-52</td>\n",
       "      <td>938</td>\n",
       "    </tr>\n",
       "    <tr>\n",
       "      <th>39</th>\n",
       "      <td>Apr-52</td>\n",
       "      <td>1109</td>\n",
       "    </tr>\n",
       "    <tr>\n",
       "      <th>40</th>\n",
       "      <td>May-52</td>\n",
       "      <td>1274</td>\n",
       "    </tr>\n",
       "    <tr>\n",
       "      <th>41</th>\n",
       "      <td>Jun-52</td>\n",
       "      <td>1422</td>\n",
       "    </tr>\n",
       "    <tr>\n",
       "      <th>42</th>\n",
       "      <td>Jul-52</td>\n",
       "      <td>1486</td>\n",
       "    </tr>\n",
       "    <tr>\n",
       "      <th>43</th>\n",
       "      <td>Aug-52</td>\n",
       "      <td>1555</td>\n",
       "    </tr>\n",
       "    <tr>\n",
       "      <th>44</th>\n",
       "      <td>Sep-52</td>\n",
       "      <td>1604</td>\n",
       "    </tr>\n",
       "    <tr>\n",
       "      <th>45</th>\n",
       "      <td>Oct-52</td>\n",
       "      <td>1600</td>\n",
       "    </tr>\n",
       "    <tr>\n",
       "      <th>46</th>\n",
       "      <td>Nov-52</td>\n",
       "      <td>1403</td>\n",
       "    </tr>\n",
       "    <tr>\n",
       "      <th>47</th>\n",
       "      <td>Dec-52</td>\n",
       "      <td>1209</td>\n",
       "    </tr>\n",
       "    <tr>\n",
       "      <th>48</th>\n",
       "      <td>Jan-53</td>\n",
       "      <td>1030</td>\n",
       "    </tr>\n",
       "    <tr>\n",
       "      <th>49</th>\n",
       "      <td>Feb-53</td>\n",
       "      <td>1032</td>\n",
       "    </tr>\n",
       "    <tr>\n",
       "      <th>50</th>\n",
       "      <td>Mar-53</td>\n",
       "      <td>1126</td>\n",
       "    </tr>\n",
       "    <tr>\n",
       "      <th>51</th>\n",
       "      <td>Apr-53</td>\n",
       "      <td>1285</td>\n",
       "    </tr>\n",
       "    <tr>\n",
       "      <th>52</th>\n",
       "      <td>May-53</td>\n",
       "      <td>1468</td>\n",
       "    </tr>\n",
       "    <tr>\n",
       "      <th>53</th>\n",
       "      <td>Jun-53</td>\n",
       "      <td>1637</td>\n",
       "    </tr>\n",
       "    <tr>\n",
       "      <th>54</th>\n",
       "      <td>Jul-53</td>\n",
       "      <td>1611</td>\n",
       "    </tr>\n",
       "    <tr>\n",
       "      <th>55</th>\n",
       "      <td>Aug-53</td>\n",
       "      <td>1608</td>\n",
       "    </tr>\n",
       "    <tr>\n",
       "      <th>56</th>\n",
       "      <td>Sep-53</td>\n",
       "      <td>1528</td>\n",
       "    </tr>\n",
       "    <tr>\n",
       "      <th>57</th>\n",
       "      <td>Oct-53</td>\n",
       "      <td>1420</td>\n",
       "    </tr>\n",
       "    <tr>\n",
       "      <th>58</th>\n",
       "      <td>Nov-53</td>\n",
       "      <td>1119</td>\n",
       "    </tr>\n",
       "    <tr>\n",
       "      <th>59</th>\n",
       "      <td>Dec-53</td>\n",
       "      <td>1013</td>\n",
       "    </tr>\n",
       "  </tbody>\n",
       "</table>\n",
       "</div>"
      ],
      "text/plain": [
       "     Month  Sales\n",
       "0   Jan-49    742\n",
       "1   Feb-49    697\n",
       "2   Mar-49    776\n",
       "3   Apr-49    898\n",
       "4   May-49   1030\n",
       "5   Jun-49   1107\n",
       "6   Jul-49   1165\n",
       "7   Aug-49   1216\n",
       "8   Sep-49   1208\n",
       "9   Oct-49   1131\n",
       "10  Nov-49    971\n",
       "11  Dec-49    783\n",
       "12  Jan-50    741\n",
       "13  Feb-50    700\n",
       "14  Mar-50    774\n",
       "15  Apr-50    932\n",
       "16  May-50   1099\n",
       "17  Jun-50   1223\n",
       "18  Jul-50   1290\n",
       "19  Aug-50   1349\n",
       "20  Sep-50   1341\n",
       "21  Oct-50   1296\n",
       "22  Nov-50   1066\n",
       "23  Dec-50    901\n",
       "24  Jan-51    896\n",
       "25  Feb-51    793\n",
       "26  Mar-51    885\n",
       "27  Apr-51   1055\n",
       "28  May-51   1204\n",
       "29  Jun-51   1326\n",
       "30  Jul-51   1303\n",
       "31  Aug-51   1436\n",
       "32  Sep-51   1473\n",
       "33  Oct-51   1453\n",
       "34  Nov-51   1170\n",
       "35  Dec-51   1023\n",
       "36  Jan-52    951\n",
       "37  Feb-52    861\n",
       "38  Mar-52    938\n",
       "39  Apr-52   1109\n",
       "40  May-52   1274\n",
       "41  Jun-52   1422\n",
       "42  Jul-52   1486\n",
       "43  Aug-52   1555\n",
       "44  Sep-52   1604\n",
       "45  Oct-52   1600\n",
       "46  Nov-52   1403\n",
       "47  Dec-52   1209\n",
       "48  Jan-53   1030\n",
       "49  Feb-53   1032\n",
       "50  Mar-53   1126\n",
       "51  Apr-53   1285\n",
       "52  May-53   1468\n",
       "53  Jun-53   1637\n",
       "54  Jul-53   1611\n",
       "55  Aug-53   1608\n",
       "56  Sep-53   1528\n",
       "57  Oct-53   1420\n",
       "58  Nov-53   1119\n",
       "59  Dec-53   1013"
      ]
     },
     "execution_count": 73,
     "metadata": {},
     "output_type": "execute_result"
    }
   ],
   "source": [
    "pla = pd.read_csv(\"PlasticSales.csv\") \n",
    "pla"
   ]
  },
  {
   "cell_type": "code",
   "execution_count": 74,
   "metadata": {
    "ExecuteTime": {
     "end_time": "2021-02-01T16:03:38.851250Z",
     "start_time": "2021-02-01T16:03:38.835249Z"
    }
   },
   "outputs": [
    {
     "data": {
      "text/plain": [
       "Month    0\n",
       "Sales    0\n",
       "dtype: int64"
      ]
     },
     "execution_count": 74,
     "metadata": {},
     "output_type": "execute_result"
    }
   ],
   "source": [
    "pla.isna().sum()"
   ]
  },
  {
   "cell_type": "code",
   "execution_count": 75,
   "metadata": {
    "ExecuteTime": {
     "end_time": "2021-02-01T16:03:39.531289Z",
     "start_time": "2021-02-01T16:03:39.508288Z"
    }
   },
   "outputs": [
    {
     "data": {
      "text/html": [
       "<div>\n",
       "<style scoped>\n",
       "    .dataframe tbody tr th:only-of-type {\n",
       "        vertical-align: middle;\n",
       "    }\n",
       "\n",
       "    .dataframe tbody tr th {\n",
       "        vertical-align: top;\n",
       "    }\n",
       "\n",
       "    .dataframe thead th {\n",
       "        text-align: right;\n",
       "    }\n",
       "</style>\n",
       "<table border=\"1\" class=\"dataframe\">\n",
       "  <thead>\n",
       "    <tr style=\"text-align: right;\">\n",
       "      <th></th>\n",
       "      <th>Sales</th>\n",
       "    </tr>\n",
       "  </thead>\n",
       "  <tbody>\n",
       "    <tr>\n",
       "      <th>count</th>\n",
       "      <td>60.000000</td>\n",
       "    </tr>\n",
       "    <tr>\n",
       "      <th>mean</th>\n",
       "      <td>1162.366667</td>\n",
       "    </tr>\n",
       "    <tr>\n",
       "      <th>std</th>\n",
       "      <td>266.431469</td>\n",
       "    </tr>\n",
       "    <tr>\n",
       "      <th>min</th>\n",
       "      <td>697.000000</td>\n",
       "    </tr>\n",
       "    <tr>\n",
       "      <th>25%</th>\n",
       "      <td>947.750000</td>\n",
       "    </tr>\n",
       "    <tr>\n",
       "      <th>50%</th>\n",
       "      <td>1148.000000</td>\n",
       "    </tr>\n",
       "    <tr>\n",
       "      <th>75%</th>\n",
       "      <td>1362.500000</td>\n",
       "    </tr>\n",
       "    <tr>\n",
       "      <th>max</th>\n",
       "      <td>1637.000000</td>\n",
       "    </tr>\n",
       "  </tbody>\n",
       "</table>\n",
       "</div>"
      ],
      "text/plain": [
       "             Sales\n",
       "count    60.000000\n",
       "mean   1162.366667\n",
       "std     266.431469\n",
       "min     697.000000\n",
       "25%     947.750000\n",
       "50%    1148.000000\n",
       "75%    1362.500000\n",
       "max    1637.000000"
      ]
     },
     "execution_count": 75,
     "metadata": {},
     "output_type": "execute_result"
    }
   ],
   "source": [
    "pla.describe()"
   ]
  },
  {
   "cell_type": "code",
   "execution_count": 76,
   "metadata": {
    "ExecuteTime": {
     "end_time": "2021-02-01T16:03:40.666354Z",
     "start_time": "2021-02-01T16:03:40.269331Z"
    }
   },
   "outputs": [
    {
     "data": {
      "image/png": "[encoded data removed]",
      "text/plain": [
       "<Figure size 432x288 with 1 Axes>"
      ]
     },
     "metadata": {
      "needs_background": "light"
     },
     "output_type": "display_data"
    }
   ],
   "source": [
    "pla['Sales'].hist(color='black');"
   ]
  },
  {
   "cell_type": "code",
   "execution_count": 77,
   "metadata": {
    "ExecuteTime": {
     "end_time": "2021-02-01T16:03:41.344393Z",
     "start_time": "2021-02-01T16:03:40.992373Z"
    }
   },
   "outputs": [
    {
     "data": {
      "text/plain": [
       "<matplotlib.axes._subplots.AxesSubplot at 0x13f58bc8>"
      ]
     },
     "execution_count": 77,
     "metadata": {},
     "output_type": "execute_result"
    },
    {
     "data": {
      "image/png": "[encoded data removed]",
      "text/plain": [
       "<Figure size 432x288 with 1 Axes>"
      ]
     },
     "metadata": {
      "needs_background": "light"
     },
     "output_type": "display_data"
    }
   ],
   "source": [
    "pla.boxplot(color='Purple')"
   ]
  },
  {
   "cell_type": "code",
   "execution_count": 78,
   "metadata": {
    "ExecuteTime": {
     "end_time": "2021-02-01T16:03:41.857422Z",
     "start_time": "2021-02-01T16:03:41.844422Z"
    }
   },
   "outputs": [],
   "source": [
    "pla.rename(columns={\"Sales ('000)\":\"Sales\"},inplace=True)"
   ]
  },
  {
   "cell_type": "markdown",
   "metadata": {},
   "source": [
    "### Time Series "
   ]
  },
  {
   "cell_type": "code",
   "execution_count": 79,
   "metadata": {
    "ExecuteTime": {
     "end_time": "2021-02-01T16:03:43.629524Z",
     "start_time": "2021-02-01T16:03:43.268503Z"
    }
   },
   "outputs": [
    {
     "data": {
      "image/png": "[encoded data removed]",
      "text/plain": [
       "<Figure size 432x288 with 1 Axes>"
      ]
     },
     "metadata": {
      "needs_background": "light"
     },
     "output_type": "display_data"
    }
   ],
   "source": [
    "pla.Sales.plot(color='magenta'); # time series plot "
   ]
  },
  {
   "cell_type": "code",
   "execution_count": 80,
   "metadata": {
    "ExecuteTime": {
     "end_time": "2021-02-01T16:03:44.174555Z",
     "start_time": "2021-02-01T16:03:44.100551Z"
    }
   },
   "outputs": [
    {
     "data": {
      "text/plain": [
       "Month\n",
       "2049-01-01    2049\n",
       "2049-02-01    2049\n",
       "2049-03-01    2049\n",
       "2049-04-01    2049\n",
       "2049-05-01    2049\n",
       "2049-06-01    2049\n",
       "2049-07-01    2049\n",
       "2049-08-01    2049\n",
       "2049-09-01    2049\n",
       "2049-10-01    2049\n",
       "2049-11-01    2049\n",
       "2049-12-01    2049\n",
       "2050-01-01    2050\n",
       "2050-02-01    2050\n",
       "2050-03-01    2050\n",
       "2050-04-01    2050\n",
       "2050-05-01    2050\n",
       "2050-06-01    2050\n",
       "2050-07-01    2050\n",
       "2050-08-01    2050\n",
       "2050-09-01    2050\n",
       "2050-10-01    2050\n",
       "2050-11-01    2050\n",
       "2050-12-01    2050\n",
       "2051-01-01    2051\n",
       "2051-02-01    2051\n",
       "2051-03-01    2051\n",
       "2051-04-01    2051\n",
       "2051-05-01    2051\n",
       "2051-06-01    2051\n",
       "2051-07-01    2051\n",
       "2051-08-01    2051\n",
       "2051-09-01    2051\n",
       "2051-10-01    2051\n",
       "2051-11-01    2051\n",
       "2051-12-01    2051\n",
       "2052-01-01    2052\n",
       "2052-02-01    2052\n",
       "2052-03-01    2052\n",
       "2052-04-01    2052\n",
       "2052-05-01    2052\n",
       "2052-06-01    2052\n",
       "2052-07-01    2052\n",
       "2052-08-01    2052\n",
       "2052-09-01    2052\n",
       "2052-10-01    2052\n",
       "2052-11-01    2052\n",
       "2052-12-01    2052\n",
       "2053-01-01    2053\n",
       "2053-02-01    2053\n",
       "2053-03-01    2053\n",
       "2053-04-01    2053\n",
       "2053-05-01    2053\n",
       "2053-06-01    2053\n",
       "2053-07-01    2053\n",
       "2053-08-01    2053\n",
       "2053-09-01    2053\n",
       "2053-10-01    2053\n",
       "2053-11-01    2053\n",
       "2053-12-01    2053\n",
       "Name: year, dtype: int64"
      ]
     },
     "execution_count": 80,
     "metadata": {},
     "output_type": "execute_result"
    }
   ],
   "source": [
    "pla.index = pd.to_datetime(pla.Month,format=\"%b-%y\")\n",
    "pla['year'] = pd.DatetimeIndex(pla['Month']).year\n",
    "pla['month'] = pd.DatetimeIndex(pla['Month']).month\n",
    "pla['year']"
   ]
  },
  {
   "cell_type": "code",
   "execution_count": 83,
   "metadata": {
    "ExecuteTime": {
     "end_time": "2021-02-01T16:03:54.884167Z",
     "start_time": "2021-02-01T16:03:54.861166Z"
    }
   },
   "outputs": [
    {
     "data": {
      "text/plain": [
       "Month\n",
       "2049-01-01     1\n",
       "2049-02-01     2\n",
       "2049-03-01     3\n",
       "2049-04-01     4\n",
       "2049-05-01     5\n",
       "2049-06-01     6\n",
       "2049-07-01     7\n",
       "2049-08-01     8\n",
       "2049-09-01     9\n",
       "2049-10-01    10\n",
       "2049-11-01    11\n",
       "2049-12-01    12\n",
       "2050-01-01     1\n",
       "2050-02-01     2\n",
       "2050-03-01     3\n",
       "2050-04-01     4\n",
       "2050-05-01     5\n",
       "2050-06-01     6\n",
       "2050-07-01     7\n",
       "2050-08-01     8\n",
       "2050-09-01     9\n",
       "2050-10-01    10\n",
       "2050-11-01    11\n",
       "2050-12-01    12\n",
       "2051-01-01     1\n",
       "2051-02-01     2\n",
       "2051-03-01     3\n",
       "2051-04-01     4\n",
       "2051-05-01     5\n",
       "2051-06-01     6\n",
       "2051-07-01     7\n",
       "2051-08-01     8\n",
       "2051-09-01     9\n",
       "2051-10-01    10\n",
       "2051-11-01    11\n",
       "2051-12-01    12\n",
       "2052-01-01     1\n",
       "2052-02-01     2\n",
       "2052-03-01     3\n",
       "2052-04-01     4\n",
       "2052-05-01     5\n",
       "2052-06-01     6\n",
       "2052-07-01     7\n",
       "2052-08-01     8\n",
       "2052-09-01     9\n",
       "2052-10-01    10\n",
       "2052-11-01    11\n",
       "2052-12-01    12\n",
       "2053-01-01     1\n",
       "2053-02-01     2\n",
       "2053-03-01     3\n",
       "2053-04-01     4\n",
       "2053-05-01     5\n",
       "2053-06-01     6\n",
       "2053-07-01     7\n",
       "2053-08-01     8\n",
       "2053-09-01     9\n",
       "2053-10-01    10\n",
       "2053-11-01    11\n",
       "2053-12-01    12\n",
       "Name: month, dtype: int64"
      ]
     },
     "execution_count": 83,
     "metadata": {},
     "output_type": "execute_result"
    }
   ],
   "source": [
    "pla['month']"
   ]
  },
  {
   "cell_type": "code",
   "execution_count": 84,
   "metadata": {
    "ExecuteTime": {
     "end_time": "2021-02-01T16:03:56.702271Z",
     "start_time": "2021-02-01T16:03:55.736216Z"
    }
   },
   "outputs": [
    {
     "data": {
      "text/plain": [
       "<matplotlib.axes._subplots.AxesSubplot at 0x150ce988>"
      ]
     },
     "execution_count": 84,
     "metadata": {},
     "output_type": "execute_result"
    },
    {
     "data": {
      "image/png": "[encoded data removed]",
      "text/plain": [
       "<Figure size 432x288 with 1 Axes>"
      ]
     },
     "metadata": {
      "needs_background": "light"
     },
     "output_type": "display_data"
    }
   ],
   "source": [
    "sns.lineplot(x=\"year\",y=\"Sales\",hue=\"month\",data=pla)"
   ]
  },
  {
   "cell_type": "markdown",
   "metadata": {},
   "source": [
    "# Data Driven Model"
   ]
  },
  {
   "cell_type": "markdown",
   "metadata": {},
   "source": [
    "### Moving Average"
   ]
  },
  {
   "cell_type": "code",
   "execution_count": 85,
   "metadata": {
    "ExecuteTime": {
     "end_time": "2021-02-01T16:04:00.098466Z",
     "start_time": "2021-02-01T16:03:59.307420Z"
    }
   },
   "outputs": [
    {
     "data": {
      "text/plain": [
       "<matplotlib.legend.Legend at 0x15190f08>"
      ]
     },
     "execution_count": 85,
     "metadata": {},
     "output_type": "execute_result"
    },
    {
     "data": {
      "image/png": "[encoded data removed]",
      "text/plain": [
       "<Figure size 432x288 with 1 Axes>"
      ]
     },
     "metadata": {
      "needs_background": "light"
     },
     "output_type": "display_data"
    }
   ],
   "source": [
    "# moving average for the time series to understand better about the trend character \n",
    "\n",
    "pla.Sales.plot(label=\"org\")\n",
    "for i in range(2,24,6):\n",
    "    pla[\"Sales\"].rolling(i).mean().plot(label=str(i))\n",
    "plt.legend(loc=3)"
   ]
  },
  {
   "cell_type": "markdown",
   "metadata": {},
   "source": [
    "### Time Series Decomposition "
   ]
  },
  {
   "cell_type": "code",
   "execution_count": 86,
   "metadata": {
    "ExecuteTime": {
     "end_time": "2021-02-01T16:04:07.223873Z",
     "start_time": "2021-02-01T16:04:01.880568Z"
    }
   },
   "outputs": [
    {
     "data": {
      "image/png": "[encoded data removed]",
      "text/plain": [
       "<Figure size 432x288 with 4 Axes>"
      ]
     },
     "execution_count": 86,
     "metadata": {},
     "output_type": "execute_result"
    },
    {
     "data": {
      "image/png": "[encoded data removed]",
      "text/plain": [
       "<Figure size 432x288 with 4 Axes>"
      ]
     },
     "metadata": {
      "needs_background": "light"
     },
     "output_type": "display_data"
    },
    {
     "data": {
      "image/png": "[encoded data removed]",
      "text/plain": [
       "<Figure size 432x288 with 4 Axes>"
      ]
     },
     "metadata": {
      "needs_background": "light"
     },
     "output_type": "display_data"
    }
   ],
   "source": [
    "# Time series decomposition plot \n",
    "\n",
    "decompose_ts_add = seasonal_decompose(pla.Sales,model=\"additive\")\n",
    "decompose_ts_add.plot()\n",
    "decompose_ts_mul = seasonal_decompose(pla.Sales,model=\"multiplicative\")\n",
    "decompose_ts_mul.plot()"
   ]
  },
  {
   "cell_type": "markdown",
   "metadata": {},
   "source": [
    "### ACF Plots and PACF Plots "
   ]
  },
  {
   "cell_type": "code",
   "execution_count": 87,
   "metadata": {
    "ExecuteTime": {
     "end_time": "2021-02-01T16:04:11.648126Z",
     "start_time": "2021-02-01T16:04:10.654069Z"
    }
   },
   "outputs": [
    {
     "data": {
      "image/png": "[encoded data removed]",
      "text/plain": [
       "<Figure size 432x288 with 1 Axes>"
      ]
     },
     "execution_count": 87,
     "metadata": {},
     "output_type": "execute_result"
    },
    {
     "data": {
      "image/png": "[encoded data removed]",
      "text/plain": [
       "<Figure size 432x288 with 1 Axes>"
      ]
     },
     "metadata": {
      "needs_background": "light"
     },
     "output_type": "display_data"
    },
    {
     "data": {
      "image/png": "[encoded data removed]",
      "text/plain": [
       "<Figure size 432x288 with 1 Axes>"
      ]
     },
     "metadata": {
      "needs_background": "light"
     },
     "output_type": "display_data"
    }
   ],
   "source": [
    "# ACF plots and PACF plots on Original data sets \n",
    "tsa_plots.plot_acf(pla.Sales,lags=10)\n",
    "tsa_plots.plot_pacf(pla.Sales)"
   ]
  },
  {
   "cell_type": "code",
   "execution_count": 88,
   "metadata": {
    "ExecuteTime": {
     "end_time": "2021-02-01T16:04:14.039263Z",
     "start_time": "2021-02-01T16:04:14.029262Z"
    }
   },
   "outputs": [],
   "source": [
    "# Splitting data\n",
    "Train = pla.head(50)\n",
    "Test = pla.tail(11)"
   ]
  },
  {
   "cell_type": "code",
   "execution_count": 89,
   "metadata": {
    "ExecuteTime": {
     "end_time": "2021-02-01T16:04:14.984317Z",
     "start_time": "2021-02-01T16:04:14.975317Z"
    }
   },
   "outputs": [],
   "source": [
    "# Creating a function to calculate the MAPE value for test data \n",
    "def MAPE(pred,org):\n",
    "    temp = np.abs((pred-org))*100/org\n",
    "    return np.mean(temp)\n"
   ]
  },
  {
   "cell_type": "markdown",
   "metadata": {},
   "source": [
    "#### Exponential Method"
   ]
  },
  {
   "cell_type": "code",
   "execution_count": 90,
   "metadata": {
    "ExecuteTime": {
     "end_time": "2021-02-01T16:04:16.659413Z",
     "start_time": "2021-02-01T16:04:16.594409Z"
    }
   },
   "outputs": [
    {
     "name": "stderr",
     "output_type": "stream",
     "text": [
      "C:\\Users\\USER\\anaconda3\\lib\\site-packages\\statsmodels\\tsa\\base\\tsa_model.py:162: ValueWarning: No frequency information was provided, so inferred frequency MS will be used.\n",
      "  % freq, ValueWarning)\n",
      "C:\\Users\\USER\\anaconda3\\lib\\site-packages\\statsmodels\\tsa\\holtwinters.py:731: RuntimeWarning: invalid value encountered in greater_equal\n",
      "  loc = initial_p >= ub\n"
     ]
    },
    {
     "data": {
      "text/plain": [
       "21.462288123424795"
      ]
     },
     "execution_count": 90,
     "metadata": {},
     "output_type": "execute_result"
    }
   ],
   "source": [
    "# Simple Exponential Method\n",
    "ses_model = SimpleExpSmoothing(Train[\"Sales\"]).fit()\n",
    "pred_ses = ses_model.predict(start = Test.index[0],end = Test.index[-1])\n",
    "MAPE(pred_ses,Test.Sales) "
   ]
  },
  {
   "cell_type": "markdown",
   "metadata": {},
   "source": [
    "#### Holt Method"
   ]
  },
  {
   "cell_type": "code",
   "execution_count": 91,
   "metadata": {
    "ExecuteTime": {
     "end_time": "2021-02-01T16:04:18.667528Z",
     "start_time": "2021-02-01T16:04:18.537520Z"
    }
   },
   "outputs": [
    {
     "name": "stderr",
     "output_type": "stream",
     "text": [
      "C:\\Users\\USER\\anaconda3\\lib\\site-packages\\statsmodels\\tsa\\base\\tsa_model.py:162: ValueWarning: No frequency information was provided, so inferred frequency MS will be used.\n",
      "  % freq, ValueWarning)\n",
      "C:\\Users\\USER\\anaconda3\\lib\\site-packages\\statsmodels\\tsa\\holtwinters.py:731: RuntimeWarning: invalid value encountered in greater_equal\n",
      "  loc = initial_p >= ub\n",
      "C:\\Users\\USER\\anaconda3\\lib\\site-packages\\statsmodels\\tsa\\holtwinters.py:744: ConvergenceWarning: Optimization failed to converge. Check mle_retvals.\n",
      "  ConvergenceWarning)\n"
     ]
    },
    {
     "data": {
      "text/plain": [
       "22.64424878577426"
      ]
     },
     "execution_count": 91,
     "metadata": {},
     "output_type": "execute_result"
    }
   ],
   "source": [
    "# Holt method \n",
    "hw_model = Holt(Train[\"Sales\"]).fit()\n",
    "pred_hw = hw_model.predict(start = Test.index[0],end = Test.index[-1])\n",
    "MAPE(pred_hw,Test.Sales) "
   ]
  },
  {
   "cell_type": "markdown",
   "metadata": {},
   "source": [
    "####  Holts winter exponential smoothing with additive seasonality and additive trend"
   ]
  },
  {
   "cell_type": "code",
   "execution_count": 92,
   "metadata": {
    "ExecuteTime": {
     "end_time": "2021-02-01T16:04:24.299850Z",
     "start_time": "2021-02-01T16:04:20.085609Z"
    }
   },
   "outputs": [
    {
     "name": "stderr",
     "output_type": "stream",
     "text": [
      "C:\\Users\\USER\\anaconda3\\lib\\site-packages\\statsmodels\\tsa\\base\\tsa_model.py:162: ValueWarning: No frequency information was provided, so inferred frequency MS will be used.\n",
      "  % freq, ValueWarning)\n",
      "C:\\Users\\USER\\anaconda3\\lib\\site-packages\\statsmodels\\tsa\\holtwinters.py:725: RuntimeWarning: invalid value encountered in less_equal\n",
      "  loc = initial_p <= lb\n",
      "C:\\Users\\USER\\anaconda3\\lib\\site-packages\\statsmodels\\tsa\\holtwinters.py:731: RuntimeWarning: invalid value encountered in greater_equal\n",
      "  loc = initial_p >= ub\n",
      "C:\\Users\\USER\\anaconda3\\lib\\site-packages\\statsmodels\\tsa\\holtwinters.py:744: ConvergenceWarning: Optimization failed to converge. Check mle_retvals.\n",
      "  ConvergenceWarning)\n"
     ]
    },
    {
     "data": {
      "text/plain": [
       "6.499650725115205"
      ]
     },
     "execution_count": 92,
     "metadata": {},
     "output_type": "execute_result"
    }
   ],
   "source": [
    "# Holts winter exponential smoothing with additive seasonality and additive trend\n",
    "hwe_model_add_add = ExponentialSmoothing(Train[\"Sales\"],seasonal=\"add\",trend=\"add\",seasonal_periods=12,damped=True).fit()\n",
    "pred_hwe_add_add = hwe_model_add_add.predict(start = Test.index[0],end = Test.index[-1])\n",
    "MAPE(pred_hwe_add_add,Test.Sales)"
   ]
  },
  {
   "cell_type": "markdown",
   "metadata": {},
   "source": [
    "####  Holts winter exponential smoothing with multiplicative seasonality and additive trend"
   ]
  },
  {
   "cell_type": "code",
   "execution_count": 93,
   "metadata": {
    "ExecuteTime": {
     "end_time": "2021-02-01T16:04:26.139955Z",
     "start_time": "2021-02-01T16:04:25.286906Z"
    }
   },
   "outputs": [
    {
     "name": "stderr",
     "output_type": "stream",
     "text": [
      "C:\\Users\\USER\\anaconda3\\lib\\site-packages\\statsmodels\\tsa\\base\\tsa_model.py:162: ValueWarning: No frequency information was provided, so inferred frequency MS will be used.\n",
      "  % freq, ValueWarning)\n",
      "C:\\Users\\USER\\anaconda3\\lib\\site-packages\\statsmodels\\tsa\\holtwinters.py:725: RuntimeWarning: invalid value encountered in less_equal\n",
      "  loc = initial_p <= lb\n",
      "C:\\Users\\USER\\anaconda3\\lib\\site-packages\\statsmodels\\tsa\\holtwinters.py:731: RuntimeWarning: invalid value encountered in greater_equal\n",
      "  loc = initial_p >= ub\n"
     ]
    },
    {
     "data": {
      "text/plain": [
       "12.805680475259438"
      ]
     },
     "execution_count": 93,
     "metadata": {},
     "output_type": "execute_result"
    }
   ],
   "source": [
    "# Holts winter exponential smoothing with multiplicative seasonality and additive trend\n",
    "hwe_model_mul_add = ExponentialSmoothing(Train[\"Sales\"],seasonal=\"mul\",trend=\"add\",seasonal_periods=12).fit()\n",
    "pred_hwe_mul_add = hwe_model_mul_add.predict(start = Test.index[0],end = Test.index[-1])\n",
    "MAPE(pred_hwe_mul_add,Test.Sales)"
   ]
  },
  {
   "cell_type": "markdown",
   "metadata": {},
   "source": [
    "## Data Driven Final Model "
   ]
  },
  {
   "cell_type": "code",
   "execution_count": 94,
   "metadata": {
    "ExecuteTime": {
     "end_time": "2021-02-01T16:04:27.946058Z",
     "start_time": "2021-02-01T16:04:27.498033Z"
    }
   },
   "outputs": [
    {
     "name": "stderr",
     "output_type": "stream",
     "text": [
      "C:\\Users\\USER\\anaconda3\\lib\\site-packages\\statsmodels\\tsa\\base\\tsa_model.py:162: ValueWarning: No frequency information was provided, so inferred frequency MS will be used.\n",
      "  % freq, ValueWarning)\n",
      "C:\\Users\\USER\\anaconda3\\lib\\site-packages\\statsmodels\\tsa\\holtwinters.py:725: RuntimeWarning: invalid value encountered in less_equal\n",
      "  loc = initial_p <= lb\n",
      "C:\\Users\\USER\\anaconda3\\lib\\site-packages\\statsmodels\\tsa\\holtwinters.py:731: RuntimeWarning: invalid value encountered in greater_equal\n",
      "  loc = initial_p >= ub\n",
      "C:\\Users\\USER\\anaconda3\\lib\\site-packages\\statsmodels\\tsa\\holtwinters.py:744: ConvergenceWarning: Optimization failed to converge. Check mle_retvals.\n",
      "  ConvergenceWarning)\n"
     ]
    }
   ],
   "source": [
    "hwe_model_add_add = ExponentialSmoothing(pla[\"Sales\"],seasonal=\"add\",trend=\"add\",seasonal_periods=12).fit()"
   ]
  },
  {
   "cell_type": "code",
   "execution_count": 95,
   "metadata": {
    "ExecuteTime": {
     "end_time": "2021-02-01T16:04:28.669100Z",
     "start_time": "2021-02-01T16:04:28.622097Z"
    }
   },
   "outputs": [
    {
     "data": {
      "text/plain": [
       "2054-01-01     937.818365\n",
       "2054-02-01     898.870776\n",
       "2054-03-01     977.026800\n",
       "2054-04-01    1125.134921\n",
       "2054-05-01    1271.163082\n",
       "                 ...     \n",
       "2059-06-01    1300.684129\n",
       "2059-07-01    1297.579717\n",
       "2059-08-01    1350.041318\n",
       "2059-09-01    1346.162874\n",
       "2059-10-01    1297.302884\n",
       "Freq: MS, Length: 70, dtype: float64"
      ]
     },
     "execution_count": 95,
     "metadata": {},
     "output_type": "execute_result"
    }
   ],
   "source": [
    "hwe_model_add_add.forecast(70)"
   ]
  },
  {
   "cell_type": "markdown",
   "metadata": {},
   "source": [
    "# Model Based Approach"
   ]
  },
  {
   "cell_type": "code",
   "execution_count": 96,
   "metadata": {
    "ExecuteTime": {
     "end_time": "2021-02-01T16:04:34.186415Z",
     "start_time": "2021-02-01T16:04:34.136412Z"
    }
   },
   "outputs": [],
   "source": [
    "pla = pd.read_csv(\"PlasticSales.csv\")\n",
    "month =['Jan','Feb','Mar','Apr','May','Jun','Jul','Aug','Sep','Oct','Nov','Dec'] \n",
    "import numpy as np\n",
    "p= pla[\"Month\"][0]\n",
    "pla['months']=0\n",
    "\n",
    "month_dummies = pd.DataFrame(pd.get_dummies(pla['months']))\n",
    "pla1 = pd.concat([pla,month_dummies],axis = 1)\n",
    "\n",
    "pla1[\"t\"] = np.arange(1,61)\n",
    "\n",
    "pla1[\"t_squared\"] = pla1[\"t\"]*pla1[\"t\"]\n",
    "pla1.columns\n",
    "pla1[\"log_Rider\"] = np.log(pla1[\"Sales\"])\n",
    "pla1.rename(columns={\"Sales\": 'Sales'}, inplace=True)"
   ]
  },
  {
   "cell_type": "code",
   "execution_count": 97,
   "metadata": {
    "ExecuteTime": {
     "end_time": "2021-02-01T16:04:37.137584Z",
     "start_time": "2021-02-01T16:04:36.684558Z"
    }
   },
   "outputs": [
    {
     "name": "stdout",
     "output_type": "stream",
     "text": [
      "     Month  Sales  months  0   t  t_squared  log_Rider\n",
      "0   Jan-49    742       0  1   1          1   6.609349\n",
      "1   Feb-49    697       0  1   2          4   6.546785\n",
      "2   Mar-49    776       0  1   3          9   6.654153\n",
      "3   Apr-49    898       0  1   4         16   6.800170\n",
      "4   May-49   1030       0  1   5         25   6.937314\n",
      "5   Jun-49   1107       0  1   6         36   7.009409\n",
      "6   Jul-49   1165       0  1   7         49   7.060476\n",
      "7   Aug-49   1216       0  1   8         64   7.103322\n",
      "8   Sep-49   1208       0  1   9         81   7.096721\n",
      "9   Oct-49   1131       0  1  10        100   7.030857\n",
      "10  Nov-49    971       0  1  11        121   6.878326\n",
      "11  Dec-49    783       0  1  12        144   6.663133\n",
      "12  Jan-50    741       0  1  13        169   6.608001\n",
      "13  Feb-50    700       0  1  14        196   6.551080\n",
      "14  Mar-50    774       0  1  15        225   6.651572\n",
      "15  Apr-50    932       0  1  16        256   6.837333\n",
      "16  May-50   1099       0  1  17        289   7.002156\n",
      "17  Jun-50   1223       0  1  18        324   7.109062\n",
      "18  Jul-50   1290       0  1  19        361   7.162397\n",
      "19  Aug-50   1349       0  1  20        400   7.207119\n",
      "20  Sep-50   1341       0  1  21        441   7.201171\n",
      "21  Oct-50   1296       0  1  22        484   7.167038\n",
      "22  Nov-50   1066       0  1  23        529   6.971669\n",
      "23  Dec-50    901       0  1  24        576   6.803505\n",
      "24  Jan-51    896       0  1  25        625   6.797940\n",
      "25  Feb-51    793       0  1  26        676   6.675823\n",
      "26  Mar-51    885       0  1  27        729   6.785588\n",
      "27  Apr-51   1055       0  1  28        784   6.961296\n",
      "28  May-51   1204       0  1  29        841   7.093405\n",
      "29  Jun-51   1326       0  1  30        900   7.189922\n",
      "30  Jul-51   1303       0  1  31        961   7.172425\n",
      "31  Aug-51   1436       0  1  32       1024   7.269617\n",
      "32  Sep-51   1473       0  1  33       1089   7.295056\n",
      "33  Oct-51   1453       0  1  34       1156   7.281386\n",
      "34  Nov-51   1170       0  1  35       1225   7.064759\n",
      "35  Dec-51   1023       0  1  36       1296   6.930495\n",
      "36  Jan-52    951       0  1  37       1369   6.857514\n",
      "37  Feb-52    861       0  1  38       1444   6.758095\n",
      "38  Mar-52    938       0  1  39       1521   6.843750\n",
      "39  Apr-52   1109       0  1  40       1600   7.011214\n",
      "40  May-52   1274       0  1  41       1681   7.149917\n",
      "41  Jun-52   1422       0  1  42       1764   7.259820\n",
      "42  Jul-52   1486       0  1  43       1849   7.303843\n",
      "43  Aug-52   1555       0  1  44       1936   7.349231\n",
      "44  Sep-52   1604       0  1  45       2025   7.380256\n",
      "45  Oct-52   1600       0  1  46       2116   7.377759\n",
      "46  Nov-52   1403       0  1  47       2209   7.246368\n",
      "47  Dec-52   1209       0  1  48       2304   7.097549\n",
      "48  Jan-53   1030       0  1  49       2401   6.937314\n",
      "49  Feb-53   1032       0  1  50       2500   6.939254\n",
      "50  Mar-53   1126       0  1  51       2601   7.026427\n",
      "51  Apr-53   1285       0  1  52       2704   7.158514\n",
      "52  May-53   1468       0  1  53       2809   7.291656\n",
      "53  Jun-53   1637       0  1  54       2916   7.400621\n",
      "54  Jul-53   1611       0  1  55       3025   7.384610\n",
      "55  Aug-53   1608       0  1  56       3136   7.382746\n",
      "56  Sep-53   1528       0  1  57       3249   7.331715\n",
      "57  Oct-53   1420       0  1  58       3364   7.258412\n",
      "58  Nov-53   1119       0  1  59       3481   7.020191\n",
      "59  Dec-53   1013       0  1  60       3600   6.920672\n"
     ]
    },
    {
     "data": {
      "text/plain": [
       "<matplotlib.axes._subplots.AxesSubplot at 0x15615cc8>"
      ]
     },
     "execution_count": 97,
     "metadata": {},
     "output_type": "execute_result"
    },
    {
     "data": {
      "image/png": "[encoded data removed]",
      "text/plain": [
       "<Figure size 432x288 with 1 Axes>"
      ]
     },
     "metadata": {
      "needs_background": "light"
     },
     "output_type": "display_data"
    }
   ],
   "source": [
    "Train = pla1.head(50)\n",
    "Test = pla1.tail(11)\n",
    "print(pla1)\n",
    "pla1.Sales.plot()"
   ]
  },
  {
   "cell_type": "code",
   "execution_count": 98,
   "metadata": {
    "ExecuteTime": {
     "end_time": "2021-02-01T16:04:40.486776Z",
     "start_time": "2021-02-01T16:04:40.327767Z"
    }
   },
   "outputs": [
    {
     "data": {
      "text/html": [
       "<div>\n",
       "<style scoped>\n",
       "    .dataframe tbody tr th:only-of-type {\n",
       "        vertical-align: middle;\n",
       "    }\n",
       "\n",
       "    .dataframe tbody tr th {\n",
       "        vertical-align: top;\n",
       "    }\n",
       "\n",
       "    .dataframe thead th {\n",
       "        text-align: right;\n",
       "    }\n",
       "</style>\n",
       "<table border=\"1\" class=\"dataframe\">\n",
       "  <thead>\n",
       "    <tr style=\"text-align: right;\">\n",
       "      <th></th>\n",
       "      <th>Month</th>\n",
       "      <th>Sales</th>\n",
       "      <th>months</th>\n",
       "      <th>0</th>\n",
       "      <th>t</th>\n",
       "      <th>t_squared</th>\n",
       "      <th>log_Rider</th>\n",
       "      <th>Date</th>\n",
       "      <th>month</th>\n",
       "      <th>year</th>\n",
       "    </tr>\n",
       "  </thead>\n",
       "  <tbody>\n",
       "    <tr>\n",
       "      <th>0</th>\n",
       "      <td>Jan-49</td>\n",
       "      <td>742</td>\n",
       "      <td>0</td>\n",
       "      <td>1</td>\n",
       "      <td>1</td>\n",
       "      <td>1</td>\n",
       "      <td>6.609349</td>\n",
       "      <td>2049-01-01</td>\n",
       "      <td>Jan</td>\n",
       "      <td>2049</td>\n",
       "    </tr>\n",
       "    <tr>\n",
       "      <th>1</th>\n",
       "      <td>Feb-49</td>\n",
       "      <td>697</td>\n",
       "      <td>0</td>\n",
       "      <td>1</td>\n",
       "      <td>2</td>\n",
       "      <td>4</td>\n",
       "      <td>6.546785</td>\n",
       "      <td>2049-02-01</td>\n",
       "      <td>Feb</td>\n",
       "      <td>2049</td>\n",
       "    </tr>\n",
       "    <tr>\n",
       "      <th>2</th>\n",
       "      <td>Mar-49</td>\n",
       "      <td>776</td>\n",
       "      <td>0</td>\n",
       "      <td>1</td>\n",
       "      <td>3</td>\n",
       "      <td>9</td>\n",
       "      <td>6.654153</td>\n",
       "      <td>2049-03-01</td>\n",
       "      <td>Mar</td>\n",
       "      <td>2049</td>\n",
       "    </tr>\n",
       "    <tr>\n",
       "      <th>3</th>\n",
       "      <td>Apr-49</td>\n",
       "      <td>898</td>\n",
       "      <td>0</td>\n",
       "      <td>1</td>\n",
       "      <td>4</td>\n",
       "      <td>16</td>\n",
       "      <td>6.800170</td>\n",
       "      <td>2049-04-01</td>\n",
       "      <td>Apr</td>\n",
       "      <td>2049</td>\n",
       "    </tr>\n",
       "    <tr>\n",
       "      <th>4</th>\n",
       "      <td>May-49</td>\n",
       "      <td>1030</td>\n",
       "      <td>0</td>\n",
       "      <td>1</td>\n",
       "      <td>5</td>\n",
       "      <td>25</td>\n",
       "      <td>6.937314</td>\n",
       "      <td>2049-05-01</td>\n",
       "      <td>May</td>\n",
       "      <td>2049</td>\n",
       "    </tr>\n",
       "    <tr>\n",
       "      <th>5</th>\n",
       "      <td>Jun-49</td>\n",
       "      <td>1107</td>\n",
       "      <td>0</td>\n",
       "      <td>1</td>\n",
       "      <td>6</td>\n",
       "      <td>36</td>\n",
       "      <td>7.009409</td>\n",
       "      <td>2049-06-01</td>\n",
       "      <td>Jun</td>\n",
       "      <td>2049</td>\n",
       "    </tr>\n",
       "    <tr>\n",
       "      <th>6</th>\n",
       "      <td>Jul-49</td>\n",
       "      <td>1165</td>\n",
       "      <td>0</td>\n",
       "      <td>1</td>\n",
       "      <td>7</td>\n",
       "      <td>49</td>\n",
       "      <td>7.060476</td>\n",
       "      <td>2049-07-01</td>\n",
       "      <td>Jul</td>\n",
       "      <td>2049</td>\n",
       "    </tr>\n",
       "    <tr>\n",
       "      <th>7</th>\n",
       "      <td>Aug-49</td>\n",
       "      <td>1216</td>\n",
       "      <td>0</td>\n",
       "      <td>1</td>\n",
       "      <td>8</td>\n",
       "      <td>64</td>\n",
       "      <td>7.103322</td>\n",
       "      <td>2049-08-01</td>\n",
       "      <td>Aug</td>\n",
       "      <td>2049</td>\n",
       "    </tr>\n",
       "    <tr>\n",
       "      <th>8</th>\n",
       "      <td>Sep-49</td>\n",
       "      <td>1208</td>\n",
       "      <td>0</td>\n",
       "      <td>1</td>\n",
       "      <td>9</td>\n",
       "      <td>81</td>\n",
       "      <td>7.096721</td>\n",
       "      <td>2049-09-01</td>\n",
       "      <td>Sep</td>\n",
       "      <td>2049</td>\n",
       "    </tr>\n",
       "    <tr>\n",
       "      <th>9</th>\n",
       "      <td>Oct-49</td>\n",
       "      <td>1131</td>\n",
       "      <td>0</td>\n",
       "      <td>1</td>\n",
       "      <td>10</td>\n",
       "      <td>100</td>\n",
       "      <td>7.030857</td>\n",
       "      <td>2049-10-01</td>\n",
       "      <td>Oct</td>\n",
       "      <td>2049</td>\n",
       "    </tr>\n",
       "    <tr>\n",
       "      <th>10</th>\n",
       "      <td>Nov-49</td>\n",
       "      <td>971</td>\n",
       "      <td>0</td>\n",
       "      <td>1</td>\n",
       "      <td>11</td>\n",
       "      <td>121</td>\n",
       "      <td>6.878326</td>\n",
       "      <td>2049-11-01</td>\n",
       "      <td>Nov</td>\n",
       "      <td>2049</td>\n",
       "    </tr>\n",
       "    <tr>\n",
       "      <th>11</th>\n",
       "      <td>Dec-49</td>\n",
       "      <td>783</td>\n",
       "      <td>0</td>\n",
       "      <td>1</td>\n",
       "      <td>12</td>\n",
       "      <td>144</td>\n",
       "      <td>6.663133</td>\n",
       "      <td>2049-12-01</td>\n",
       "      <td>Dec</td>\n",
       "      <td>2049</td>\n",
       "    </tr>\n",
       "    <tr>\n",
       "      <th>12</th>\n",
       "      <td>Jan-50</td>\n",
       "      <td>741</td>\n",
       "      <td>0</td>\n",
       "      <td>1</td>\n",
       "      <td>13</td>\n",
       "      <td>169</td>\n",
       "      <td>6.608001</td>\n",
       "      <td>2050-01-01</td>\n",
       "      <td>Jan</td>\n",
       "      <td>2050</td>\n",
       "    </tr>\n",
       "    <tr>\n",
       "      <th>13</th>\n",
       "      <td>Feb-50</td>\n",
       "      <td>700</td>\n",
       "      <td>0</td>\n",
       "      <td>1</td>\n",
       "      <td>14</td>\n",
       "      <td>196</td>\n",
       "      <td>6.551080</td>\n",
       "      <td>2050-02-01</td>\n",
       "      <td>Feb</td>\n",
       "      <td>2050</td>\n",
       "    </tr>\n",
       "    <tr>\n",
       "      <th>14</th>\n",
       "      <td>Mar-50</td>\n",
       "      <td>774</td>\n",
       "      <td>0</td>\n",
       "      <td>1</td>\n",
       "      <td>15</td>\n",
       "      <td>225</td>\n",
       "      <td>6.651572</td>\n",
       "      <td>2050-03-01</td>\n",
       "      <td>Mar</td>\n",
       "      <td>2050</td>\n",
       "    </tr>\n",
       "    <tr>\n",
       "      <th>15</th>\n",
       "      <td>Apr-50</td>\n",
       "      <td>932</td>\n",
       "      <td>0</td>\n",
       "      <td>1</td>\n",
       "      <td>16</td>\n",
       "      <td>256</td>\n",
       "      <td>6.837333</td>\n",
       "      <td>2050-04-01</td>\n",
       "      <td>Apr</td>\n",
       "      <td>2050</td>\n",
       "    </tr>\n",
       "    <tr>\n",
       "      <th>16</th>\n",
       "      <td>May-50</td>\n",
       "      <td>1099</td>\n",
       "      <td>0</td>\n",
       "      <td>1</td>\n",
       "      <td>17</td>\n",
       "      <td>289</td>\n",
       "      <td>7.002156</td>\n",
       "      <td>2050-05-01</td>\n",
       "      <td>May</td>\n",
       "      <td>2050</td>\n",
       "    </tr>\n",
       "    <tr>\n",
       "      <th>17</th>\n",
       "      <td>Jun-50</td>\n",
       "      <td>1223</td>\n",
       "      <td>0</td>\n",
       "      <td>1</td>\n",
       "      <td>18</td>\n",
       "      <td>324</td>\n",
       "      <td>7.109062</td>\n",
       "      <td>2050-06-01</td>\n",
       "      <td>Jun</td>\n",
       "      <td>2050</td>\n",
       "    </tr>\n",
       "    <tr>\n",
       "      <th>18</th>\n",
       "      <td>Jul-50</td>\n",
       "      <td>1290</td>\n",
       "      <td>0</td>\n",
       "      <td>1</td>\n",
       "      <td>19</td>\n",
       "      <td>361</td>\n",
       "      <td>7.162397</td>\n",
       "      <td>2050-07-01</td>\n",
       "      <td>Jul</td>\n",
       "      <td>2050</td>\n",
       "    </tr>\n",
       "    <tr>\n",
       "      <th>19</th>\n",
       "      <td>Aug-50</td>\n",
       "      <td>1349</td>\n",
       "      <td>0</td>\n",
       "      <td>1</td>\n",
       "      <td>20</td>\n",
       "      <td>400</td>\n",
       "      <td>7.207119</td>\n",
       "      <td>2050-08-01</td>\n",
       "      <td>Aug</td>\n",
       "      <td>2050</td>\n",
       "    </tr>\n",
       "    <tr>\n",
       "      <th>20</th>\n",
       "      <td>Sep-50</td>\n",
       "      <td>1341</td>\n",
       "      <td>0</td>\n",
       "      <td>1</td>\n",
       "      <td>21</td>\n",
       "      <td>441</td>\n",
       "      <td>7.201171</td>\n",
       "      <td>2050-09-01</td>\n",
       "      <td>Sep</td>\n",
       "      <td>2050</td>\n",
       "    </tr>\n",
       "    <tr>\n",
       "      <th>21</th>\n",
       "      <td>Oct-50</td>\n",
       "      <td>1296</td>\n",
       "      <td>0</td>\n",
       "      <td>1</td>\n",
       "      <td>22</td>\n",
       "      <td>484</td>\n",
       "      <td>7.167038</td>\n",
       "      <td>2050-10-01</td>\n",
       "      <td>Oct</td>\n",
       "      <td>2050</td>\n",
       "    </tr>\n",
       "    <tr>\n",
       "      <th>22</th>\n",
       "      <td>Nov-50</td>\n",
       "      <td>1066</td>\n",
       "      <td>0</td>\n",
       "      <td>1</td>\n",
       "      <td>23</td>\n",
       "      <td>529</td>\n",
       "      <td>6.971669</td>\n",
       "      <td>2050-11-01</td>\n",
       "      <td>Nov</td>\n",
       "      <td>2050</td>\n",
       "    </tr>\n",
       "    <tr>\n",
       "      <th>23</th>\n",
       "      <td>Dec-50</td>\n",
       "      <td>901</td>\n",
       "      <td>0</td>\n",
       "      <td>1</td>\n",
       "      <td>24</td>\n",
       "      <td>576</td>\n",
       "      <td>6.803505</td>\n",
       "      <td>2050-12-01</td>\n",
       "      <td>Dec</td>\n",
       "      <td>2050</td>\n",
       "    </tr>\n",
       "    <tr>\n",
       "      <th>24</th>\n",
       "      <td>Jan-51</td>\n",
       "      <td>896</td>\n",
       "      <td>0</td>\n",
       "      <td>1</td>\n",
       "      <td>25</td>\n",
       "      <td>625</td>\n",
       "      <td>6.797940</td>\n",
       "      <td>2051-01-01</td>\n",
       "      <td>Jan</td>\n",
       "      <td>2051</td>\n",
       "    </tr>\n",
       "    <tr>\n",
       "      <th>25</th>\n",
       "      <td>Feb-51</td>\n",
       "      <td>793</td>\n",
       "      <td>0</td>\n",
       "      <td>1</td>\n",
       "      <td>26</td>\n",
       "      <td>676</td>\n",
       "      <td>6.675823</td>\n",
       "      <td>2051-02-01</td>\n",
       "      <td>Feb</td>\n",
       "      <td>2051</td>\n",
       "    </tr>\n",
       "    <tr>\n",
       "      <th>26</th>\n",
       "      <td>Mar-51</td>\n",
       "      <td>885</td>\n",
       "      <td>0</td>\n",
       "      <td>1</td>\n",
       "      <td>27</td>\n",
       "      <td>729</td>\n",
       "      <td>6.785588</td>\n",
       "      <td>2051-03-01</td>\n",
       "      <td>Mar</td>\n",
       "      <td>2051</td>\n",
       "    </tr>\n",
       "    <tr>\n",
       "      <th>27</th>\n",
       "      <td>Apr-51</td>\n",
       "      <td>1055</td>\n",
       "      <td>0</td>\n",
       "      <td>1</td>\n",
       "      <td>28</td>\n",
       "      <td>784</td>\n",
       "      <td>6.961296</td>\n",
       "      <td>2051-04-01</td>\n",
       "      <td>Apr</td>\n",
       "      <td>2051</td>\n",
       "    </tr>\n",
       "    <tr>\n",
       "      <th>28</th>\n",
       "      <td>May-51</td>\n",
       "      <td>1204</td>\n",
       "      <td>0</td>\n",
       "      <td>1</td>\n",
       "      <td>29</td>\n",
       "      <td>841</td>\n",
       "      <td>7.093405</td>\n",
       "      <td>2051-05-01</td>\n",
       "      <td>May</td>\n",
       "      <td>2051</td>\n",
       "    </tr>\n",
       "    <tr>\n",
       "      <th>29</th>\n",
       "      <td>Jun-51</td>\n",
       "      <td>1326</td>\n",
       "      <td>0</td>\n",
       "      <td>1</td>\n",
       "      <td>30</td>\n",
       "      <td>900</td>\n",
       "      <td>7.189922</td>\n",
       "      <td>2051-06-01</td>\n",
       "      <td>Jun</td>\n",
       "      <td>2051</td>\n",
       "    </tr>\n",
       "    <tr>\n",
       "      <th>30</th>\n",
       "      <td>Jul-51</td>\n",
       "      <td>1303</td>\n",
       "      <td>0</td>\n",
       "      <td>1</td>\n",
       "      <td>31</td>\n",
       "      <td>961</td>\n",
       "      <td>7.172425</td>\n",
       "      <td>2051-07-01</td>\n",
       "      <td>Jul</td>\n",
       "      <td>2051</td>\n",
       "    </tr>\n",
       "    <tr>\n",
       "      <th>31</th>\n",
       "      <td>Aug-51</td>\n",
       "      <td>1436</td>\n",
       "      <td>0</td>\n",
       "      <td>1</td>\n",
       "      <td>32</td>\n",
       "      <td>1024</td>\n",
       "      <td>7.269617</td>\n",
       "      <td>2051-08-01</td>\n",
       "      <td>Aug</td>\n",
       "      <td>2051</td>\n",
       "    </tr>\n",
       "    <tr>\n",
       "      <th>32</th>\n",
       "      <td>Sep-51</td>\n",
       "      <td>1473</td>\n",
       "      <td>0</td>\n",
       "      <td>1</td>\n",
       "      <td>33</td>\n",
       "      <td>1089</td>\n",
       "      <td>7.295056</td>\n",
       "      <td>2051-09-01</td>\n",
       "      <td>Sep</td>\n",
       "      <td>2051</td>\n",
       "    </tr>\n",
       "    <tr>\n",
       "      <th>33</th>\n",
       "      <td>Oct-51</td>\n",
       "      <td>1453</td>\n",
       "      <td>0</td>\n",
       "      <td>1</td>\n",
       "      <td>34</td>\n",
       "      <td>1156</td>\n",
       "      <td>7.281386</td>\n",
       "      <td>2051-10-01</td>\n",
       "      <td>Oct</td>\n",
       "      <td>2051</td>\n",
       "    </tr>\n",
       "    <tr>\n",
       "      <th>34</th>\n",
       "      <td>Nov-51</td>\n",
       "      <td>1170</td>\n",
       "      <td>0</td>\n",
       "      <td>1</td>\n",
       "      <td>35</td>\n",
       "      <td>1225</td>\n",
       "      <td>7.064759</td>\n",
       "      <td>2051-11-01</td>\n",
       "      <td>Nov</td>\n",
       "      <td>2051</td>\n",
       "    </tr>\n",
       "    <tr>\n",
       "      <th>35</th>\n",
       "      <td>Dec-51</td>\n",
       "      <td>1023</td>\n",
       "      <td>0</td>\n",
       "      <td>1</td>\n",
       "      <td>36</td>\n",
       "      <td>1296</td>\n",
       "      <td>6.930495</td>\n",
       "      <td>2051-12-01</td>\n",
       "      <td>Dec</td>\n",
       "      <td>2051</td>\n",
       "    </tr>\n",
       "    <tr>\n",
       "      <th>36</th>\n",
       "      <td>Jan-52</td>\n",
       "      <td>951</td>\n",
       "      <td>0</td>\n",
       "      <td>1</td>\n",
       "      <td>37</td>\n",
       "      <td>1369</td>\n",
       "      <td>6.857514</td>\n",
       "      <td>2052-01-01</td>\n",
       "      <td>Jan</td>\n",
       "      <td>2052</td>\n",
       "    </tr>\n",
       "    <tr>\n",
       "      <th>37</th>\n",
       "      <td>Feb-52</td>\n",
       "      <td>861</td>\n",
       "      <td>0</td>\n",
       "      <td>1</td>\n",
       "      <td>38</td>\n",
       "      <td>1444</td>\n",
       "      <td>6.758095</td>\n",
       "      <td>2052-02-01</td>\n",
       "      <td>Feb</td>\n",
       "      <td>2052</td>\n",
       "    </tr>\n",
       "    <tr>\n",
       "      <th>38</th>\n",
       "      <td>Mar-52</td>\n",
       "      <td>938</td>\n",
       "      <td>0</td>\n",
       "      <td>1</td>\n",
       "      <td>39</td>\n",
       "      <td>1521</td>\n",
       "      <td>6.843750</td>\n",
       "      <td>2052-03-01</td>\n",
       "      <td>Mar</td>\n",
       "      <td>2052</td>\n",
       "    </tr>\n",
       "    <tr>\n",
       "      <th>39</th>\n",
       "      <td>Apr-52</td>\n",
       "      <td>1109</td>\n",
       "      <td>0</td>\n",
       "      <td>1</td>\n",
       "      <td>40</td>\n",
       "      <td>1600</td>\n",
       "      <td>7.011214</td>\n",
       "      <td>2052-04-01</td>\n",
       "      <td>Apr</td>\n",
       "      <td>2052</td>\n",
       "    </tr>\n",
       "    <tr>\n",
       "      <th>40</th>\n",
       "      <td>May-52</td>\n",
       "      <td>1274</td>\n",
       "      <td>0</td>\n",
       "      <td>1</td>\n",
       "      <td>41</td>\n",
       "      <td>1681</td>\n",
       "      <td>7.149917</td>\n",
       "      <td>2052-05-01</td>\n",
       "      <td>May</td>\n",
       "      <td>2052</td>\n",
       "    </tr>\n",
       "    <tr>\n",
       "      <th>41</th>\n",
       "      <td>Jun-52</td>\n",
       "      <td>1422</td>\n",
       "      <td>0</td>\n",
       "      <td>1</td>\n",
       "      <td>42</td>\n",
       "      <td>1764</td>\n",
       "      <td>7.259820</td>\n",
       "      <td>2052-06-01</td>\n",
       "      <td>Jun</td>\n",
       "      <td>2052</td>\n",
       "    </tr>\n",
       "    <tr>\n",
       "      <th>42</th>\n",
       "      <td>Jul-52</td>\n",
       "      <td>1486</td>\n",
       "      <td>0</td>\n",
       "      <td>1</td>\n",
       "      <td>43</td>\n",
       "      <td>1849</td>\n",
       "      <td>7.303843</td>\n",
       "      <td>2052-07-01</td>\n",
       "      <td>Jul</td>\n",
       "      <td>2052</td>\n",
       "    </tr>\n",
       "    <tr>\n",
       "      <th>43</th>\n",
       "      <td>Aug-52</td>\n",
       "      <td>1555</td>\n",
       "      <td>0</td>\n",
       "      <td>1</td>\n",
       "      <td>44</td>\n",
       "      <td>1936</td>\n",
       "      <td>7.349231</td>\n",
       "      <td>2052-08-01</td>\n",
       "      <td>Aug</td>\n",
       "      <td>2052</td>\n",
       "    </tr>\n",
       "    <tr>\n",
       "      <th>44</th>\n",
       "      <td>Sep-52</td>\n",
       "      <td>1604</td>\n",
       "      <td>0</td>\n",
       "      <td>1</td>\n",
       "      <td>45</td>\n",
       "      <td>2025</td>\n",
       "      <td>7.380256</td>\n",
       "      <td>2052-09-01</td>\n",
       "      <td>Sep</td>\n",
       "      <td>2052</td>\n",
       "    </tr>\n",
       "    <tr>\n",
       "      <th>45</th>\n",
       "      <td>Oct-52</td>\n",
       "      <td>1600</td>\n",
       "      <td>0</td>\n",
       "      <td>1</td>\n",
       "      <td>46</td>\n",
       "      <td>2116</td>\n",
       "      <td>7.377759</td>\n",
       "      <td>2052-10-01</td>\n",
       "      <td>Oct</td>\n",
       "      <td>2052</td>\n",
       "    </tr>\n",
       "    <tr>\n",
       "      <th>46</th>\n",
       "      <td>Nov-52</td>\n",
       "      <td>1403</td>\n",
       "      <td>0</td>\n",
       "      <td>1</td>\n",
       "      <td>47</td>\n",
       "      <td>2209</td>\n",
       "      <td>7.246368</td>\n",
       "      <td>2052-11-01</td>\n",
       "      <td>Nov</td>\n",
       "      <td>2052</td>\n",
       "    </tr>\n",
       "    <tr>\n",
       "      <th>47</th>\n",
       "      <td>Dec-52</td>\n",
       "      <td>1209</td>\n",
       "      <td>0</td>\n",
       "      <td>1</td>\n",
       "      <td>48</td>\n",
       "      <td>2304</td>\n",
       "      <td>7.097549</td>\n",
       "      <td>2052-12-01</td>\n",
       "      <td>Dec</td>\n",
       "      <td>2052</td>\n",
       "    </tr>\n",
       "    <tr>\n",
       "      <th>48</th>\n",
       "      <td>Jan-53</td>\n",
       "      <td>1030</td>\n",
       "      <td>0</td>\n",
       "      <td>1</td>\n",
       "      <td>49</td>\n",
       "      <td>2401</td>\n",
       "      <td>6.937314</td>\n",
       "      <td>2053-01-01</td>\n",
       "      <td>Jan</td>\n",
       "      <td>2053</td>\n",
       "    </tr>\n",
       "    <tr>\n",
       "      <th>49</th>\n",
       "      <td>Feb-53</td>\n",
       "      <td>1032</td>\n",
       "      <td>0</td>\n",
       "      <td>1</td>\n",
       "      <td>50</td>\n",
       "      <td>2500</td>\n",
       "      <td>6.939254</td>\n",
       "      <td>2053-02-01</td>\n",
       "      <td>Feb</td>\n",
       "      <td>2053</td>\n",
       "    </tr>\n",
       "    <tr>\n",
       "      <th>50</th>\n",
       "      <td>Mar-53</td>\n",
       "      <td>1126</td>\n",
       "      <td>0</td>\n",
       "      <td>1</td>\n",
       "      <td>51</td>\n",
       "      <td>2601</td>\n",
       "      <td>7.026427</td>\n",
       "      <td>2053-03-01</td>\n",
       "      <td>Mar</td>\n",
       "      <td>2053</td>\n",
       "    </tr>\n",
       "    <tr>\n",
       "      <th>51</th>\n",
       "      <td>Apr-53</td>\n",
       "      <td>1285</td>\n",
       "      <td>0</td>\n",
       "      <td>1</td>\n",
       "      <td>52</td>\n",
       "      <td>2704</td>\n",
       "      <td>7.158514</td>\n",
       "      <td>2053-04-01</td>\n",
       "      <td>Apr</td>\n",
       "      <td>2053</td>\n",
       "    </tr>\n",
       "    <tr>\n",
       "      <th>52</th>\n",
       "      <td>May-53</td>\n",
       "      <td>1468</td>\n",
       "      <td>0</td>\n",
       "      <td>1</td>\n",
       "      <td>53</td>\n",
       "      <td>2809</td>\n",
       "      <td>7.291656</td>\n",
       "      <td>2053-05-01</td>\n",
       "      <td>May</td>\n",
       "      <td>2053</td>\n",
       "    </tr>\n",
       "    <tr>\n",
       "      <th>53</th>\n",
       "      <td>Jun-53</td>\n",
       "      <td>1637</td>\n",
       "      <td>0</td>\n",
       "      <td>1</td>\n",
       "      <td>54</td>\n",
       "      <td>2916</td>\n",
       "      <td>7.400621</td>\n",
       "      <td>2053-06-01</td>\n",
       "      <td>Jun</td>\n",
       "      <td>2053</td>\n",
       "    </tr>\n",
       "    <tr>\n",
       "      <th>54</th>\n",
       "      <td>Jul-53</td>\n",
       "      <td>1611</td>\n",
       "      <td>0</td>\n",
       "      <td>1</td>\n",
       "      <td>55</td>\n",
       "      <td>3025</td>\n",
       "      <td>7.384610</td>\n",
       "      <td>2053-07-01</td>\n",
       "      <td>Jul</td>\n",
       "      <td>2053</td>\n",
       "    </tr>\n",
       "    <tr>\n",
       "      <th>55</th>\n",
       "      <td>Aug-53</td>\n",
       "      <td>1608</td>\n",
       "      <td>0</td>\n",
       "      <td>1</td>\n",
       "      <td>56</td>\n",
       "      <td>3136</td>\n",
       "      <td>7.382746</td>\n",
       "      <td>2053-08-01</td>\n",
       "      <td>Aug</td>\n",
       "      <td>2053</td>\n",
       "    </tr>\n",
       "    <tr>\n",
       "      <th>56</th>\n",
       "      <td>Sep-53</td>\n",
       "      <td>1528</td>\n",
       "      <td>0</td>\n",
       "      <td>1</td>\n",
       "      <td>57</td>\n",
       "      <td>3249</td>\n",
       "      <td>7.331715</td>\n",
       "      <td>2053-09-01</td>\n",
       "      <td>Sep</td>\n",
       "      <td>2053</td>\n",
       "    </tr>\n",
       "    <tr>\n",
       "      <th>57</th>\n",
       "      <td>Oct-53</td>\n",
       "      <td>1420</td>\n",
       "      <td>0</td>\n",
       "      <td>1</td>\n",
       "      <td>58</td>\n",
       "      <td>3364</td>\n",
       "      <td>7.258412</td>\n",
       "      <td>2053-10-01</td>\n",
       "      <td>Oct</td>\n",
       "      <td>2053</td>\n",
       "    </tr>\n",
       "    <tr>\n",
       "      <th>58</th>\n",
       "      <td>Nov-53</td>\n",
       "      <td>1119</td>\n",
       "      <td>0</td>\n",
       "      <td>1</td>\n",
       "      <td>59</td>\n",
       "      <td>3481</td>\n",
       "      <td>7.020191</td>\n",
       "      <td>2053-11-01</td>\n",
       "      <td>Nov</td>\n",
       "      <td>2053</td>\n",
       "    </tr>\n",
       "    <tr>\n",
       "      <th>59</th>\n",
       "      <td>Dec-53</td>\n",
       "      <td>1013</td>\n",
       "      <td>0</td>\n",
       "      <td>1</td>\n",
       "      <td>60</td>\n",
       "      <td>3600</td>\n",
       "      <td>6.920672</td>\n",
       "      <td>2053-12-01</td>\n",
       "      <td>Dec</td>\n",
       "      <td>2053</td>\n",
       "    </tr>\n",
       "  </tbody>\n",
       "</table>\n",
       "</div>"
      ],
      "text/plain": [
       "     Month  Sales  months  0   t  t_squared  log_Rider       Date month  year\n",
       "0   Jan-49    742       0  1   1          1   6.609349 2049-01-01   Jan  2049\n",
       "1   Feb-49    697       0  1   2          4   6.546785 2049-02-01   Feb  2049\n",
       "2   Mar-49    776       0  1   3          9   6.654153 2049-03-01   Mar  2049\n",
       "3   Apr-49    898       0  1   4         16   6.800170 2049-04-01   Apr  2049\n",
       "4   May-49   1030       0  1   5         25   6.937314 2049-05-01   May  2049\n",
       "5   Jun-49   1107       0  1   6         36   7.009409 2049-06-01   Jun  2049\n",
       "6   Jul-49   1165       0  1   7         49   7.060476 2049-07-01   Jul  2049\n",
       "7   Aug-49   1216       0  1   8         64   7.103322 2049-08-01   Aug  2049\n",
       "8   Sep-49   1208       0  1   9         81   7.096721 2049-09-01   Sep  2049\n",
       "9   Oct-49   1131       0  1  10        100   7.030857 2049-10-01   Oct  2049\n",
       "10  Nov-49    971       0  1  11        121   6.878326 2049-11-01   Nov  2049\n",
       "11  Dec-49    783       0  1  12        144   6.663133 2049-12-01   Dec  2049\n",
       "12  Jan-50    741       0  1  13        169   6.608001 2050-01-01   Jan  2050\n",
       "13  Feb-50    700       0  1  14        196   6.551080 2050-02-01   Feb  2050\n",
       "14  Mar-50    774       0  1  15        225   6.651572 2050-03-01   Mar  2050\n",
       "15  Apr-50    932       0  1  16        256   6.837333 2050-04-01   Apr  2050\n",
       "16  May-50   1099       0  1  17        289   7.002156 2050-05-01   May  2050\n",
       "17  Jun-50   1223       0  1  18        324   7.109062 2050-06-01   Jun  2050\n",
       "18  Jul-50   1290       0  1  19        361   7.162397 2050-07-01   Jul  2050\n",
       "19  Aug-50   1349       0  1  20        400   7.207119 2050-08-01   Aug  2050\n",
       "20  Sep-50   1341       0  1  21        441   7.201171 2050-09-01   Sep  2050\n",
       "21  Oct-50   1296       0  1  22        484   7.167038 2050-10-01   Oct  2050\n",
       "22  Nov-50   1066       0  1  23        529   6.971669 2050-11-01   Nov  2050\n",
       "23  Dec-50    901       0  1  24        576   6.803505 2050-12-01   Dec  2050\n",
       "24  Jan-51    896       0  1  25        625   6.797940 2051-01-01   Jan  2051\n",
       "25  Feb-51    793       0  1  26        676   6.675823 2051-02-01   Feb  2051\n",
       "26  Mar-51    885       0  1  27        729   6.785588 2051-03-01   Mar  2051\n",
       "27  Apr-51   1055       0  1  28        784   6.961296 2051-04-01   Apr  2051\n",
       "28  May-51   1204       0  1  29        841   7.093405 2051-05-01   May  2051\n",
       "29  Jun-51   1326       0  1  30        900   7.189922 2051-06-01   Jun  2051\n",
       "30  Jul-51   1303       0  1  31        961   7.172425 2051-07-01   Jul  2051\n",
       "31  Aug-51   1436       0  1  32       1024   7.269617 2051-08-01   Aug  2051\n",
       "32  Sep-51   1473       0  1  33       1089   7.295056 2051-09-01   Sep  2051\n",
       "33  Oct-51   1453       0  1  34       1156   7.281386 2051-10-01   Oct  2051\n",
       "34  Nov-51   1170       0  1  35       1225   7.064759 2051-11-01   Nov  2051\n",
       "35  Dec-51   1023       0  1  36       1296   6.930495 2051-12-01   Dec  2051\n",
       "36  Jan-52    951       0  1  37       1369   6.857514 2052-01-01   Jan  2052\n",
       "37  Feb-52    861       0  1  38       1444   6.758095 2052-02-01   Feb  2052\n",
       "38  Mar-52    938       0  1  39       1521   6.843750 2052-03-01   Mar  2052\n",
       "39  Apr-52   1109       0  1  40       1600   7.011214 2052-04-01   Apr  2052\n",
       "40  May-52   1274       0  1  41       1681   7.149917 2052-05-01   May  2052\n",
       "41  Jun-52   1422       0  1  42       1764   7.259820 2052-06-01   Jun  2052\n",
       "42  Jul-52   1486       0  1  43       1849   7.303843 2052-07-01   Jul  2052\n",
       "43  Aug-52   1555       0  1  44       1936   7.349231 2052-08-01   Aug  2052\n",
       "44  Sep-52   1604       0  1  45       2025   7.380256 2052-09-01   Sep  2052\n",
       "45  Oct-52   1600       0  1  46       2116   7.377759 2052-10-01   Oct  2052\n",
       "46  Nov-52   1403       0  1  47       2209   7.246368 2052-11-01   Nov  2052\n",
       "47  Dec-52   1209       0  1  48       2304   7.097549 2052-12-01   Dec  2052\n",
       "48  Jan-53   1030       0  1  49       2401   6.937314 2053-01-01   Jan  2053\n",
       "49  Feb-53   1032       0  1  50       2500   6.939254 2053-02-01   Feb  2053\n",
       "50  Mar-53   1126       0  1  51       2601   7.026427 2053-03-01   Mar  2053\n",
       "51  Apr-53   1285       0  1  52       2704   7.158514 2053-04-01   Apr  2053\n",
       "52  May-53   1468       0  1  53       2809   7.291656 2053-05-01   May  2053\n",
       "53  Jun-53   1637       0  1  54       2916   7.400621 2053-06-01   Jun  2053\n",
       "54  Jul-53   1611       0  1  55       3025   7.384610 2053-07-01   Jul  2053\n",
       "55  Aug-53   1608       0  1  56       3136   7.382746 2053-08-01   Aug  2053\n",
       "56  Sep-53   1528       0  1  57       3249   7.331715 2053-09-01   Sep  2053\n",
       "57  Oct-53   1420       0  1  58       3364   7.258412 2053-10-01   Oct  2053\n",
       "58  Nov-53   1119       0  1  59       3481   7.020191 2053-11-01   Nov  2053\n",
       "59  Dec-53   1013       0  1  60       3600   6.920672 2053-12-01   Dec  2053"
      ]
     },
     "execution_count": 98,
     "metadata": {},
     "output_type": "execute_result"
    }
   ],
   "source": [
    "pla1[\"Date\"] = pd.to_datetime(pla1.Month,format=\"%b-%y\")\n",
    "pla1[\"month\"] = pla1.Date.dt.strftime(\"%b\") # month extraction\n",
    "pla1[\"year\"] = pla1.Date.dt.strftime(\"%Y\") # year extraction\n",
    "Train1 = pla.head(50)\n",
    "Test1 = pla.tail(11)\n",
    "pla1"
   ]
  },
  {
   "cell_type": "markdown",
   "metadata": {},
   "source": [
    "### Heat Map "
   ]
  },
  {
   "cell_type": "code",
   "execution_count": 99,
   "metadata": {
    "ExecuteTime": {
     "end_time": "2021-02-01T16:04:43.686959Z",
     "start_time": "2021-02-01T16:04:42.618898Z"
    }
   },
   "outputs": [
    {
     "data": {
      "text/plain": [
       "<matplotlib.axes._subplots.AxesSubplot at 0x155a5e08>"
      ]
     },
     "execution_count": 99,
     "metadata": {},
     "output_type": "execute_result"
    },
    {
     "data": {
      "image/png": "[encoded data removed]",
      "text/plain": [
       "<Figure size 864x576 with 2 Axes>"
      ]
     },
     "metadata": {
      "needs_background": "light"
     },
     "output_type": "display_data"
    }
   ],
   "source": [
    "plt.figure(figsize=(12,8))\n",
    "heatmap_y_month = pd.pivot_table(data=pla1,values=\"Sales\",index=\"year\",columns=\"month\",aggfunc=\"mean\",fill_value=0)\n",
    "sns.heatmap(heatmap_y_month,annot=True,fmt=\"g\")"
   ]
  },
  {
   "cell_type": "markdown",
   "metadata": {},
   "source": [
    "### Boxplots "
   ]
  },
  {
   "cell_type": "code",
   "execution_count": 100,
   "metadata": {
    "ExecuteTime": {
     "end_time": "2021-02-01T16:04:46.079096Z",
     "start_time": "2021-02-01T16:04:45.092039Z"
    }
   },
   "outputs": [
    {
     "data": {
      "text/plain": [
       "<matplotlib.axes._subplots.AxesSubplot at 0x15930048>"
      ]
     },
     "execution_count": 100,
     "metadata": {},
     "output_type": "execute_result"
    },
    {
     "data": {
      "image/png": "[encoded data removed]",
      "text/plain": [
       "<Figure size 576x432 with 2 Axes>"
      ]
     },
     "metadata": {
      "needs_background": "light"
     },
     "output_type": "display_data"
    }
   ],
   "source": [
    "plt.figure(figsize=(8,6))\n",
    "plt.subplot(211)\n",
    "sns.boxplot(x=\"month\",y=\"Sales\",data=pla1)\n",
    "plt.subplot(212)\n",
    "sns.boxplot(x=\"year\",y=\"Sales\",data=pla1)"
   ]
  },
  {
   "cell_type": "code",
   "execution_count": 101,
   "metadata": {
    "ExecuteTime": {
     "end_time": "2021-02-01T16:04:48.130213Z",
     "start_time": "2021-02-01T16:04:47.247162Z"
    }
   },
   "outputs": [
    {
     "data": {
      "text/plain": [
       "<matplotlib.axes._subplots.AxesSubplot at 0x158f0e48>"
      ]
     },
     "execution_count": 101,
     "metadata": {},
     "output_type": "execute_result"
    },
    {
     "data": {
      "image/png": "[encoded data removed]",
      "text/plain": [
       "<Figure size 864x216 with 1 Axes>"
      ]
     },
     "metadata": {
      "needs_background": "light"
     },
     "output_type": "display_data"
    }
   ],
   "source": [
    "plt.figure(figsize=(12,3))\n",
    "sns.lineplot(x=\"year\",y=\"Sales\",data=pla1)"
   ]
  },
  {
   "cell_type": "code",
   "execution_count": 102,
   "metadata": {
    "ExecuteTime": {
     "end_time": "2021-02-01T16:04:50.692359Z",
     "start_time": "2021-02-01T16:04:48.631242Z"
    }
   },
   "outputs": [
    {
     "data": {
      "image/png": "[encoded data removed]",
      "text/plain": [
       "<Figure size 432x288 with 4 Axes>"
      ]
     },
     "metadata": {
      "needs_background": "light"
     },
     "output_type": "display_data"
    }
   ],
   "source": [
    "from statsmodels.tsa.seasonal import seasonal_decompose\n",
    "decompose_ts_add = seasonal_decompose(pla1.Sales,period=16)\n",
    "decompose_ts_add.plot()\n",
    "plt.show() "
   ]
  },
  {
   "cell_type": "markdown",
   "metadata": {},
   "source": [
    "#### Linear Model"
   ]
  },
  {
   "cell_type": "code",
   "execution_count": 103,
   "metadata": {
    "ExecuteTime": {
     "end_time": "2021-02-01T16:04:51.376399Z",
     "start_time": "2021-02-01T16:04:51.314395Z"
    }
   },
   "outputs": [
    {
     "data": {
      "text/plain": [
       "234.26485926524037"
      ]
     },
     "execution_count": 103,
     "metadata": {},
     "output_type": "execute_result"
    }
   ],
   "source": [
    "import statsmodels.formula.api as smf \n",
    "linear_model = smf.ols('Sales~t',data=Train).fit()\n",
    "pred_linear =  pd.Series(linear_model.predict(pd.DataFrame(Test['t'])))\n",
    "rmse_linear = np.sqrt(np.mean((np.array(Test['Sales'])-np.array(pred_linear))**2)) \n",
    "rmse_linear"
   ]
  },
  {
   "cell_type": "markdown",
   "metadata": {},
   "source": [
    "####  Exponential"
   ]
  },
  {
   "cell_type": "code",
   "execution_count": 104,
   "metadata": {
    "ExecuteTime": {
     "end_time": "2021-02-01T16:04:52.905486Z",
     "start_time": "2021-02-01T16:04:52.851483Z"
    }
   },
   "outputs": [
    {
     "data": {
      "text/plain": [
       "236.20886507322803"
      ]
     },
     "execution_count": 104,
     "metadata": {},
     "output_type": "execute_result"
    }
   ],
   "source": [
    "Exp = smf.ols('log_Rider~t',data=Train).fit()\n",
    "pred_Exp = pd.Series(Exp.predict(pd.DataFrame(Test['t'])))\n",
    "rmse_Exp = np.sqrt(np.mean((np.array(Test['Sales'])-np.array(np.exp(pred_Exp)))**2))\n",
    "rmse_Exp "
   ]
  },
  {
   "cell_type": "markdown",
   "metadata": {},
   "source": [
    "#### Quadratic "
   ]
  },
  {
   "cell_type": "code",
   "execution_count": 105,
   "metadata": {
    "ExecuteTime": {
     "end_time": "2021-02-01T16:04:54.372570Z",
     "start_time": "2021-02-01T16:04:54.283565Z"
    }
   },
   "outputs": [
    {
     "data": {
      "text/plain": [
       "231.43841735408392"
      ]
     },
     "execution_count": 105,
     "metadata": {},
     "output_type": "execute_result"
    }
   ],
   "source": [
    "Quad = smf.ols('Sales~t+t_squared',data=Train).fit()\n",
    "pred_Quad = pd.Series(Quad.predict(Test[[\"t\",\"t_squared\"]]))\n",
    "rmse_Quad = np.sqrt(np.mean((np.array(Test['Sales'])-np.array(pred_Quad))**2))\n",
    "rmse_Quad "
   ]
  },
  {
   "cell_type": "markdown",
   "metadata": {},
   "source": [
    "#### Additive Seasonality "
   ]
  },
  {
   "cell_type": "code",
   "execution_count": 106,
   "metadata": {
    "ExecuteTime": {
     "end_time": "2021-02-01T16:04:55.829653Z",
     "start_time": "2021-02-01T16:04:55.765650Z"
    }
   },
   "outputs": [
    {
     "data": {
      "text/plain": [
       "327.23904073600113"
      ]
     },
     "execution_count": 106,
     "metadata": {},
     "output_type": "execute_result"
    }
   ],
   "source": [
    "add_sea = smf.ols('Sales~months',data=Train1).fit()\n",
    "pred_add_sea = pd.Series(add_sea.predict(Test1[['months']]))\n",
    "rmse_add_sea = np.sqrt(np.mean((np.array(Test1['Sales'])-np.array(pred_add_sea))**2))\n",
    "rmse_add_sea "
   ]
  },
  {
   "cell_type": "code",
   "execution_count": 107,
   "metadata": {
    "ExecuteTime": {
     "end_time": "2021-02-01T16:04:56.471690Z",
     "start_time": "2021-02-01T16:04:56.438688Z"
    }
   },
   "outputs": [
    {
     "data": {
      "text/html": [
       "<div>\n",
       "<style scoped>\n",
       "    .dataframe tbody tr th:only-of-type {\n",
       "        vertical-align: middle;\n",
       "    }\n",
       "\n",
       "    .dataframe tbody tr th {\n",
       "        vertical-align: top;\n",
       "    }\n",
       "\n",
       "    .dataframe thead th {\n",
       "        text-align: right;\n",
       "    }\n",
       "</style>\n",
       "<table border=\"1\" class=\"dataframe\">\n",
       "  <thead>\n",
       "    <tr style=\"text-align: right;\">\n",
       "      <th></th>\n",
       "      <th>MODEL</th>\n",
       "      <th>RMSE_Values</th>\n",
       "    </tr>\n",
       "  </thead>\n",
       "  <tbody>\n",
       "    <tr>\n",
       "      <th>2</th>\n",
       "      <td>rmse_Quad</td>\n",
       "      <td>231.438417</td>\n",
       "    </tr>\n",
       "    <tr>\n",
       "      <th>0</th>\n",
       "      <td>rmse_linear</td>\n",
       "      <td>234.264859</td>\n",
       "    </tr>\n",
       "    <tr>\n",
       "      <th>1</th>\n",
       "      <td>rmse_Exp</td>\n",
       "      <td>236.208865</td>\n",
       "    </tr>\n",
       "    <tr>\n",
       "      <th>3</th>\n",
       "      <td>rmse_add_sea</td>\n",
       "      <td>327.239041</td>\n",
       "    </tr>\n",
       "  </tbody>\n",
       "</table>\n",
       "</div>"
      ],
      "text/plain": [
       "          MODEL  RMSE_Values\n",
       "2     rmse_Quad   231.438417\n",
       "0   rmse_linear   234.264859\n",
       "1      rmse_Exp   236.208865\n",
       "3  rmse_add_sea   327.239041"
      ]
     },
     "execution_count": 107,
     "metadata": {},
     "output_type": "execute_result"
    }
   ],
   "source": [
    "data = {\"MODEL\":pd.Series([\"rmse_linear\",\"rmse_Exp\",\"rmse_Quad\",\"rmse_add_sea\"]),\"RMSE_Values\":pd.Series([rmse_linear,rmse_Exp,rmse_Quad,rmse_add_sea])}\n",
    "table_rmse=pd.DataFrame(data)\n",
    "table_rmse.sort_values(['RMSE_Values']) "
   ]
  },
  {
   "cell_type": "code",
   "execution_count": 108,
   "metadata": {
    "ExecuteTime": {
     "end_time": "2021-02-01T16:04:57.279736Z",
     "start_time": "2021-02-01T16:04:57.265735Z"
    }
   },
   "outputs": [],
   "source": [
    "predict_data = pd.read_csv(\"Predict_new (2).csv\")   "
   ]
  },
  {
   "cell_type": "code",
   "execution_count": 109,
   "metadata": {
    "ExecuteTime": {
     "end_time": "2021-02-01T16:04:58.001777Z",
     "start_time": "2021-02-01T16:04:57.940774Z"
    }
   },
   "outputs": [
    {
     "data": {
      "text/html": [
       "<div>\n",
       "<style scoped>\n",
       "    .dataframe tbody tr th:only-of-type {\n",
       "        vertical-align: middle;\n",
       "    }\n",
       "\n",
       "    .dataframe tbody tr th {\n",
       "        vertical-align: top;\n",
       "    }\n",
       "\n",
       "    .dataframe thead th {\n",
       "        text-align: right;\n",
       "    }\n",
       "</style>\n",
       "<table border=\"1\" class=\"dataframe\">\n",
       "  <thead>\n",
       "    <tr style=\"text-align: right;\">\n",
       "      <th></th>\n",
       "      <th>Month</th>\n",
       "      <th>Jan</th>\n",
       "      <th>Feb</th>\n",
       "      <th>Mar</th>\n",
       "      <th>Apr</th>\n",
       "      <th>May</th>\n",
       "      <th>Jun</th>\n",
       "      <th>Jul</th>\n",
       "      <th>Aug</th>\n",
       "      <th>Sep</th>\n",
       "      <th>Oct</th>\n",
       "      <th>Nov</th>\n",
       "      <th>Dec</th>\n",
       "      <th>t</th>\n",
       "      <th>t_squared</th>\n",
       "    </tr>\n",
       "  </thead>\n",
       "  <tbody>\n",
       "    <tr>\n",
       "      <th>0</th>\n",
       "      <td>04-Apr</td>\n",
       "      <td>0</td>\n",
       "      <td>0</td>\n",
       "      <td>0</td>\n",
       "      <td>1</td>\n",
       "      <td>0</td>\n",
       "      <td>0</td>\n",
       "      <td>0</td>\n",
       "      <td>0</td>\n",
       "      <td>0</td>\n",
       "      <td>0</td>\n",
       "      <td>0</td>\n",
       "      <td>0</td>\n",
       "      <td>160</td>\n",
       "      <td>25600</td>\n",
       "    </tr>\n",
       "    <tr>\n",
       "      <th>1</th>\n",
       "      <td>04-May</td>\n",
       "      <td>0</td>\n",
       "      <td>0</td>\n",
       "      <td>0</td>\n",
       "      <td>0</td>\n",
       "      <td>1</td>\n",
       "      <td>0</td>\n",
       "      <td>0</td>\n",
       "      <td>0</td>\n",
       "      <td>0</td>\n",
       "      <td>0</td>\n",
       "      <td>0</td>\n",
       "      <td>0</td>\n",
       "      <td>161</td>\n",
       "      <td>25921</td>\n",
       "    </tr>\n",
       "    <tr>\n",
       "      <th>2</th>\n",
       "      <td>04-Jun</td>\n",
       "      <td>0</td>\n",
       "      <td>0</td>\n",
       "      <td>0</td>\n",
       "      <td>0</td>\n",
       "      <td>0</td>\n",
       "      <td>1</td>\n",
       "      <td>0</td>\n",
       "      <td>0</td>\n",
       "      <td>0</td>\n",
       "      <td>0</td>\n",
       "      <td>0</td>\n",
       "      <td>0</td>\n",
       "      <td>162</td>\n",
       "      <td>26244</td>\n",
       "    </tr>\n",
       "    <tr>\n",
       "      <th>3</th>\n",
       "      <td>04-Jul</td>\n",
       "      <td>0</td>\n",
       "      <td>0</td>\n",
       "      <td>0</td>\n",
       "      <td>0</td>\n",
       "      <td>0</td>\n",
       "      <td>0</td>\n",
       "      <td>1</td>\n",
       "      <td>0</td>\n",
       "      <td>0</td>\n",
       "      <td>0</td>\n",
       "      <td>0</td>\n",
       "      <td>0</td>\n",
       "      <td>163</td>\n",
       "      <td>26569</td>\n",
       "    </tr>\n",
       "    <tr>\n",
       "      <th>4</th>\n",
       "      <td>04-Aug</td>\n",
       "      <td>0</td>\n",
       "      <td>0</td>\n",
       "      <td>0</td>\n",
       "      <td>0</td>\n",
       "      <td>0</td>\n",
       "      <td>0</td>\n",
       "      <td>0</td>\n",
       "      <td>1</td>\n",
       "      <td>0</td>\n",
       "      <td>0</td>\n",
       "      <td>0</td>\n",
       "      <td>0</td>\n",
       "      <td>164</td>\n",
       "      <td>26896</td>\n",
       "    </tr>\n",
       "    <tr>\n",
       "      <th>5</th>\n",
       "      <td>04-Sep</td>\n",
       "      <td>0</td>\n",
       "      <td>0</td>\n",
       "      <td>0</td>\n",
       "      <td>0</td>\n",
       "      <td>0</td>\n",
       "      <td>0</td>\n",
       "      <td>0</td>\n",
       "      <td>0</td>\n",
       "      <td>1</td>\n",
       "      <td>0</td>\n",
       "      <td>0</td>\n",
       "      <td>0</td>\n",
       "      <td>165</td>\n",
       "      <td>27225</td>\n",
       "    </tr>\n",
       "    <tr>\n",
       "      <th>6</th>\n",
       "      <td>04-Oct</td>\n",
       "      <td>0</td>\n",
       "      <td>0</td>\n",
       "      <td>0</td>\n",
       "      <td>0</td>\n",
       "      <td>0</td>\n",
       "      <td>0</td>\n",
       "      <td>0</td>\n",
       "      <td>0</td>\n",
       "      <td>0</td>\n",
       "      <td>1</td>\n",
       "      <td>0</td>\n",
       "      <td>0</td>\n",
       "      <td>166</td>\n",
       "      <td>27556</td>\n",
       "    </tr>\n",
       "    <tr>\n",
       "      <th>7</th>\n",
       "      <td>04-Nov</td>\n",
       "      <td>0</td>\n",
       "      <td>0</td>\n",
       "      <td>0</td>\n",
       "      <td>0</td>\n",
       "      <td>0</td>\n",
       "      <td>0</td>\n",
       "      <td>0</td>\n",
       "      <td>0</td>\n",
       "      <td>0</td>\n",
       "      <td>0</td>\n",
       "      <td>1</td>\n",
       "      <td>0</td>\n",
       "      <td>167</td>\n",
       "      <td>27889</td>\n",
       "    </tr>\n",
       "    <tr>\n",
       "      <th>8</th>\n",
       "      <td>04-Dec</td>\n",
       "      <td>0</td>\n",
       "      <td>0</td>\n",
       "      <td>0</td>\n",
       "      <td>0</td>\n",
       "      <td>0</td>\n",
       "      <td>0</td>\n",
       "      <td>0</td>\n",
       "      <td>0</td>\n",
       "      <td>0</td>\n",
       "      <td>0</td>\n",
       "      <td>0</td>\n",
       "      <td>1</td>\n",
       "      <td>168</td>\n",
       "      <td>28224</td>\n",
       "    </tr>\n",
       "    <tr>\n",
       "      <th>9</th>\n",
       "      <td>05-Jan</td>\n",
       "      <td>1</td>\n",
       "      <td>0</td>\n",
       "      <td>0</td>\n",
       "      <td>0</td>\n",
       "      <td>0</td>\n",
       "      <td>0</td>\n",
       "      <td>0</td>\n",
       "      <td>0</td>\n",
       "      <td>0</td>\n",
       "      <td>0</td>\n",
       "      <td>0</td>\n",
       "      <td>0</td>\n",
       "      <td>169</td>\n",
       "      <td>28561</td>\n",
       "    </tr>\n",
       "    <tr>\n",
       "      <th>10</th>\n",
       "      <td>05-Feb</td>\n",
       "      <td>0</td>\n",
       "      <td>1</td>\n",
       "      <td>0</td>\n",
       "      <td>0</td>\n",
       "      <td>0</td>\n",
       "      <td>0</td>\n",
       "      <td>0</td>\n",
       "      <td>0</td>\n",
       "      <td>0</td>\n",
       "      <td>0</td>\n",
       "      <td>0</td>\n",
       "      <td>0</td>\n",
       "      <td>170</td>\n",
       "      <td>28900</td>\n",
       "    </tr>\n",
       "    <tr>\n",
       "      <th>11</th>\n",
       "      <td>05-Mar</td>\n",
       "      <td>0</td>\n",
       "      <td>0</td>\n",
       "      <td>1</td>\n",
       "      <td>0</td>\n",
       "      <td>0</td>\n",
       "      <td>0</td>\n",
       "      <td>0</td>\n",
       "      <td>0</td>\n",
       "      <td>0</td>\n",
       "      <td>0</td>\n",
       "      <td>0</td>\n",
       "      <td>0</td>\n",
       "      <td>171</td>\n",
       "      <td>29241</td>\n",
       "    </tr>\n",
       "  </tbody>\n",
       "</table>\n",
       "</div>"
      ],
      "text/plain": [
       "     Month  Jan  Feb  Mar  Apr  May  Jun  Jul  Aug  Sep  Oct  Nov  Dec    t  \\\n",
       "0   04-Apr    0    0    0    1    0    0    0    0    0    0    0    0  160   \n",
       "1   04-May    0    0    0    0    1    0    0    0    0    0    0    0  161   \n",
       "2   04-Jun    0    0    0    0    0    1    0    0    0    0    0    0  162   \n",
       "3   04-Jul    0    0    0    0    0    0    1    0    0    0    0    0  163   \n",
       "4   04-Aug    0    0    0    0    0    0    0    1    0    0    0    0  164   \n",
       "5   04-Sep    0    0    0    0    0    0    0    0    1    0    0    0  165   \n",
       "6   04-Oct    0    0    0    0    0    0    0    0    0    1    0    0  166   \n",
       "7   04-Nov    0    0    0    0    0    0    0    0    0    0    1    0  167   \n",
       "8   04-Dec    0    0    0    0    0    0    0    0    0    0    0    1  168   \n",
       "9   05-Jan    1    0    0    0    0    0    0    0    0    0    0    0  169   \n",
       "10  05-Feb    0    1    0    0    0    0    0    0    0    0    0    0  170   \n",
       "11  05-Mar    0    0    1    0    0    0    0    0    0    0    0    0  171   \n",
       "\n",
       "    t_squared  \n",
       "0       25600  \n",
       "1       25921  \n",
       "2       26244  \n",
       "3       26569  \n",
       "4       26896  \n",
       "5       27225  \n",
       "6       27556  \n",
       "7       27889  \n",
       "8       28224  \n",
       "9       28561  \n",
       "10      28900  \n",
       "11      29241  "
      ]
     },
     "execution_count": 109,
     "metadata": {},
     "output_type": "execute_result"
    }
   ],
   "source": [
    "predict_data  "
   ]
  },
  {
   "cell_type": "code",
   "execution_count": 110,
   "metadata": {
    "ExecuteTime": {
     "end_time": "2021-02-01T16:04:58.725819Z",
     "start_time": "2021-02-01T16:04:58.686817Z"
    }
   },
   "outputs": [],
   "source": [
    "model_full = smf.ols('Sales~t+t_squared',data=pla1).fit()   "
   ]
  },
  {
   "cell_type": "code",
   "execution_count": 111,
   "metadata": {
    "ExecuteTime": {
     "end_time": "2021-02-01T16:04:59.759878Z",
     "start_time": "2021-02-01T16:04:59.724876Z"
    }
   },
   "outputs": [
    {
     "data": {
      "text/plain": [
       "0     977.375116\n",
       "1     966.033176\n",
       "2     954.541034\n",
       "3     942.898692\n",
       "4     931.106149\n",
       "5     919.163405\n",
       "6     907.070460\n",
       "7     894.827314\n",
       "8     882.433968\n",
       "9     869.890420\n",
       "10    857.196672\n",
       "11    844.352723\n",
       "dtype: float64"
      ]
     },
     "execution_count": 111,
     "metadata": {},
     "output_type": "execute_result"
    }
   ],
   "source": [
    "pred_new  = pd.Series(Quad.predict(predict_data)) \n",
    "pred_new"
   ]
  },
  {
   "cell_type": "code",
   "execution_count": 112,
   "metadata": {
    "ExecuteTime": {
     "end_time": "2021-02-01T16:05:00.635928Z",
     "start_time": "2021-02-01T16:05:00.565924Z"
    }
   },
   "outputs": [
    {
     "data": {
      "text/html": [
       "<div>\n",
       "<style scoped>\n",
       "    .dataframe tbody tr th:only-of-type {\n",
       "        vertical-align: middle;\n",
       "    }\n",
       "\n",
       "    .dataframe tbody tr th {\n",
       "        vertical-align: top;\n",
       "    }\n",
       "\n",
       "    .dataframe thead th {\n",
       "        text-align: right;\n",
       "    }\n",
       "</style>\n",
       "<table border=\"1\" class=\"dataframe\">\n",
       "  <thead>\n",
       "    <tr style=\"text-align: right;\">\n",
       "      <th></th>\n",
       "      <th>Month</th>\n",
       "      <th>Jan</th>\n",
       "      <th>Feb</th>\n",
       "      <th>Mar</th>\n",
       "      <th>Apr</th>\n",
       "      <th>May</th>\n",
       "      <th>Jun</th>\n",
       "      <th>Jul</th>\n",
       "      <th>Aug</th>\n",
       "      <th>Sep</th>\n",
       "      <th>Oct</th>\n",
       "      <th>Nov</th>\n",
       "      <th>Dec</th>\n",
       "      <th>t</th>\n",
       "      <th>t_squared</th>\n",
       "      <th>forecasted_Plastic</th>\n",
       "    </tr>\n",
       "  </thead>\n",
       "  <tbody>\n",
       "    <tr>\n",
       "      <th>0</th>\n",
       "      <td>04-Apr</td>\n",
       "      <td>0</td>\n",
       "      <td>0</td>\n",
       "      <td>0</td>\n",
       "      <td>1</td>\n",
       "      <td>0</td>\n",
       "      <td>0</td>\n",
       "      <td>0</td>\n",
       "      <td>0</td>\n",
       "      <td>0</td>\n",
       "      <td>0</td>\n",
       "      <td>0</td>\n",
       "      <td>0</td>\n",
       "      <td>160</td>\n",
       "      <td>25600</td>\n",
       "      <td>977.375116</td>\n",
       "    </tr>\n",
       "    <tr>\n",
       "      <th>1</th>\n",
       "      <td>04-May</td>\n",
       "      <td>0</td>\n",
       "      <td>0</td>\n",
       "      <td>0</td>\n",
       "      <td>0</td>\n",
       "      <td>1</td>\n",
       "      <td>0</td>\n",
       "      <td>0</td>\n",
       "      <td>0</td>\n",
       "      <td>0</td>\n",
       "      <td>0</td>\n",
       "      <td>0</td>\n",
       "      <td>0</td>\n",
       "      <td>161</td>\n",
       "      <td>25921</td>\n",
       "      <td>966.033176</td>\n",
       "    </tr>\n",
       "    <tr>\n",
       "      <th>2</th>\n",
       "      <td>04-Jun</td>\n",
       "      <td>0</td>\n",
       "      <td>0</td>\n",
       "      <td>0</td>\n",
       "      <td>0</td>\n",
       "      <td>0</td>\n",
       "      <td>1</td>\n",
       "      <td>0</td>\n",
       "      <td>0</td>\n",
       "      <td>0</td>\n",
       "      <td>0</td>\n",
       "      <td>0</td>\n",
       "      <td>0</td>\n",
       "      <td>162</td>\n",
       "      <td>26244</td>\n",
       "      <td>954.541034</td>\n",
       "    </tr>\n",
       "    <tr>\n",
       "      <th>3</th>\n",
       "      <td>04-Jul</td>\n",
       "      <td>0</td>\n",
       "      <td>0</td>\n",
       "      <td>0</td>\n",
       "      <td>0</td>\n",
       "      <td>0</td>\n",
       "      <td>0</td>\n",
       "      <td>1</td>\n",
       "      <td>0</td>\n",
       "      <td>0</td>\n",
       "      <td>0</td>\n",
       "      <td>0</td>\n",
       "      <td>0</td>\n",
       "      <td>163</td>\n",
       "      <td>26569</td>\n",
       "      <td>942.898692</td>\n",
       "    </tr>\n",
       "    <tr>\n",
       "      <th>4</th>\n",
       "      <td>04-Aug</td>\n",
       "      <td>0</td>\n",
       "      <td>0</td>\n",
       "      <td>0</td>\n",
       "      <td>0</td>\n",
       "      <td>0</td>\n",
       "      <td>0</td>\n",
       "      <td>0</td>\n",
       "      <td>1</td>\n",
       "      <td>0</td>\n",
       "      <td>0</td>\n",
       "      <td>0</td>\n",
       "      <td>0</td>\n",
       "      <td>164</td>\n",
       "      <td>26896</td>\n",
       "      <td>931.106149</td>\n",
       "    </tr>\n",
       "    <tr>\n",
       "      <th>5</th>\n",
       "      <td>04-Sep</td>\n",
       "      <td>0</td>\n",
       "      <td>0</td>\n",
       "      <td>0</td>\n",
       "      <td>0</td>\n",
       "      <td>0</td>\n",
       "      <td>0</td>\n",
       "      <td>0</td>\n",
       "      <td>0</td>\n",
       "      <td>1</td>\n",
       "      <td>0</td>\n",
       "      <td>0</td>\n",
       "      <td>0</td>\n",
       "      <td>165</td>\n",
       "      <td>27225</td>\n",
       "      <td>919.163405</td>\n",
       "    </tr>\n",
       "    <tr>\n",
       "      <th>6</th>\n",
       "      <td>04-Oct</td>\n",
       "      <td>0</td>\n",
       "      <td>0</td>\n",
       "      <td>0</td>\n",
       "      <td>0</td>\n",
       "      <td>0</td>\n",
       "      <td>0</td>\n",
       "      <td>0</td>\n",
       "      <td>0</td>\n",
       "      <td>0</td>\n",
       "      <td>1</td>\n",
       "      <td>0</td>\n",
       "      <td>0</td>\n",
       "      <td>166</td>\n",
       "      <td>27556</td>\n",
       "      <td>907.070460</td>\n",
       "    </tr>\n",
       "    <tr>\n",
       "      <th>7</th>\n",
       "      <td>04-Nov</td>\n",
       "      <td>0</td>\n",
       "      <td>0</td>\n",
       "      <td>0</td>\n",
       "      <td>0</td>\n",
       "      <td>0</td>\n",
       "      <td>0</td>\n",
       "      <td>0</td>\n",
       "      <td>0</td>\n",
       "      <td>0</td>\n",
       "      <td>0</td>\n",
       "      <td>1</td>\n",
       "      <td>0</td>\n",
       "      <td>167</td>\n",
       "      <td>27889</td>\n",
       "      <td>894.827314</td>\n",
       "    </tr>\n",
       "    <tr>\n",
       "      <th>8</th>\n",
       "      <td>04-Dec</td>\n",
       "      <td>0</td>\n",
       "      <td>0</td>\n",
       "      <td>0</td>\n",
       "      <td>0</td>\n",
       "      <td>0</td>\n",
       "      <td>0</td>\n",
       "      <td>0</td>\n",
       "      <td>0</td>\n",
       "      <td>0</td>\n",
       "      <td>0</td>\n",
       "      <td>0</td>\n",
       "      <td>1</td>\n",
       "      <td>168</td>\n",
       "      <td>28224</td>\n",
       "      <td>882.433968</td>\n",
       "    </tr>\n",
       "    <tr>\n",
       "      <th>9</th>\n",
       "      <td>05-Jan</td>\n",
       "      <td>1</td>\n",
       "      <td>0</td>\n",
       "      <td>0</td>\n",
       "      <td>0</td>\n",
       "      <td>0</td>\n",
       "      <td>0</td>\n",
       "      <td>0</td>\n",
       "      <td>0</td>\n",
       "      <td>0</td>\n",
       "      <td>0</td>\n",
       "      <td>0</td>\n",
       "      <td>0</td>\n",
       "      <td>169</td>\n",
       "      <td>28561</td>\n",
       "      <td>869.890420</td>\n",
       "    </tr>\n",
       "    <tr>\n",
       "      <th>10</th>\n",
       "      <td>05-Feb</td>\n",
       "      <td>0</td>\n",
       "      <td>1</td>\n",
       "      <td>0</td>\n",
       "      <td>0</td>\n",
       "      <td>0</td>\n",
       "      <td>0</td>\n",
       "      <td>0</td>\n",
       "      <td>0</td>\n",
       "      <td>0</td>\n",
       "      <td>0</td>\n",
       "      <td>0</td>\n",
       "      <td>0</td>\n",
       "      <td>170</td>\n",
       "      <td>28900</td>\n",
       "      <td>857.196672</td>\n",
       "    </tr>\n",
       "    <tr>\n",
       "      <th>11</th>\n",
       "      <td>05-Mar</td>\n",
       "      <td>0</td>\n",
       "      <td>0</td>\n",
       "      <td>1</td>\n",
       "      <td>0</td>\n",
       "      <td>0</td>\n",
       "      <td>0</td>\n",
       "      <td>0</td>\n",
       "      <td>0</td>\n",
       "      <td>0</td>\n",
       "      <td>0</td>\n",
       "      <td>0</td>\n",
       "      <td>0</td>\n",
       "      <td>171</td>\n",
       "      <td>29241</td>\n",
       "      <td>844.352723</td>\n",
       "    </tr>\n",
       "  </tbody>\n",
       "</table>\n",
       "</div>"
      ],
      "text/plain": [
       "     Month  Jan  Feb  Mar  Apr  May  Jun  Jul  Aug  Sep  Oct  Nov  Dec    t  \\\n",
       "0   04-Apr    0    0    0    1    0    0    0    0    0    0    0    0  160   \n",
       "1   04-May    0    0    0    0    1    0    0    0    0    0    0    0  161   \n",
       "2   04-Jun    0    0    0    0    0    1    0    0    0    0    0    0  162   \n",
       "3   04-Jul    0    0    0    0    0    0    1    0    0    0    0    0  163   \n",
       "4   04-Aug    0    0    0    0    0    0    0    1    0    0    0    0  164   \n",
       "5   04-Sep    0    0    0    0    0    0    0    0    1    0    0    0  165   \n",
       "6   04-Oct    0    0    0    0    0    0    0    0    0    1    0    0  166   \n",
       "7   04-Nov    0    0    0    0    0    0    0    0    0    0    1    0  167   \n",
       "8   04-Dec    0    0    0    0    0    0    0    0    0    0    0    1  168   \n",
       "9   05-Jan    1    0    0    0    0    0    0    0    0    0    0    0  169   \n",
       "10  05-Feb    0    1    0    0    0    0    0    0    0    0    0    0  170   \n",
       "11  05-Mar    0    0    1    0    0    0    0    0    0    0    0    0  171   \n",
       "\n",
       "    t_squared  forecasted_Plastic  \n",
       "0       25600          977.375116  \n",
       "1       25921          966.033176  \n",
       "2       26244          954.541034  \n",
       "3       26569          942.898692  \n",
       "4       26896          931.106149  \n",
       "5       27225          919.163405  \n",
       "6       27556          907.070460  \n",
       "7       27889          894.827314  \n",
       "8       28224          882.433968  \n",
       "9       28561          869.890420  \n",
       "10      28900          857.196672  \n",
       "11      29241          844.352723  "
      ]
     },
     "execution_count": 112,
     "metadata": {},
     "output_type": "execute_result"
    }
   ],
   "source": [
    "predict_data[\"forecasted_Plastic\"] = pd.Series(pred_new) \n",
    "predict_data"
   ]
  }
 ],
 "metadata": {
  "kernelspec": {
   "display_name": "Python 3",
   "language": "python",
   "name": "python3"
  },
  "language_info": {
   "codemirror_mode": {
    "name": "ipython",
    "version": 3
   },
   "file_extension": ".py",
   "mimetype": "text/x-python",
   "name": "python",
   "nbconvert_exporter": "python",
   "pygments_lexer": "ipython3",
   "version": "3.7.7"
  },
  "toc": {
   "base_numbering": 1,
   "nav_menu": {},
   "number_sections": true,
   "sideBar": true,
   "skip_h1_title": false,
   "title_cell": "Table of Contents",
   "title_sidebar": "Contents",
   "toc_cell": false,
   "toc_position": {},
   "toc_section_display": true,
   "toc_window_display": false
  },
  "varInspector": {
   "cols": {
    "lenName": 16,
    "lenType": 16,
    "lenVar": 40
   },
   "kernels_config": {
    "python": {
     "delete_cmd_postfix": "",
     "delete_cmd_prefix": "del ",
     "library": "var_list.py",
     "varRefreshCmd": "print(var_dic_list())"
    },
    "r": {
     "delete_cmd_postfix": ") ",
     "delete_cmd_prefix": "rm(",
     "library": "var_list.r",
     "varRefreshCmd": "cat(var_dic_list()) "
    }
   },
   "types_to_exclude": [
    "module",
    "function",
    "builtin_function_or_method",
    "instance",
    "_Feature"
   ],
   "window_display": false
  }
 },
 "nbformat": 4,
 "nbformat_minor": 4
}
